{
 "cells": [
  {
   "cell_type": "code",
   "execution_count": 108,
   "metadata": {},
   "outputs": [],
   "source": [
    "import matplotlib.pyplot as plt\n",
    "import numpy as np\n",
    "import pandas as pd\n",
    "import prifair as pf\n",
    "import torch\n",
    "\n",
    "from sklearn.compose import ColumnTransformer\n",
    "from sklearn.metrics import confusion_matrix\n",
    "from sklearn.model_selection import train_test_split\n",
    "from sklearn.preprocessing import OneHotEncoder, StandardScaler\n",
    "from torch import nn, optim"
   ]
  },
  {
   "cell_type": "code",
   "execution_count": 67,
   "metadata": {},
   "outputs": [],
   "source": [
    "epsilon = 1.0\n",
    "delta = 1e-5\n",
    "epochs = 10\n",
    "relative_weight_bound = 1.5\n",
    "lr = 5e-3"
   ]
  },
  {
   "cell_type": "code",
   "execution_count": 68,
   "metadata": {},
   "outputs": [
    {
     "data": {
      "text/html": [
       "<div>\n",
       "<style scoped>\n",
       "    .dataframe tbody tr th:only-of-type {\n",
       "        vertical-align: middle;\n",
       "    }\n",
       "\n",
       "    .dataframe tbody tr th {\n",
       "        vertical-align: top;\n",
       "    }\n",
       "\n",
       "    .dataframe thead th {\n",
       "        text-align: right;\n",
       "    }\n",
       "</style>\n",
       "<table border=\"1\" class=\"dataframe\">\n",
       "  <thead>\n",
       "    <tr style=\"text-align: right;\">\n",
       "      <th></th>\n",
       "      <th>Age</th>\n",
       "      <th>Sex</th>\n",
       "      <th>ChestPainType</th>\n",
       "      <th>RestingBP</th>\n",
       "      <th>Cholesterol</th>\n",
       "      <th>FastingBS</th>\n",
       "      <th>RestingECG</th>\n",
       "      <th>MaxHR</th>\n",
       "      <th>ExerciseAngina</th>\n",
       "      <th>Oldpeak</th>\n",
       "      <th>ST_Slope</th>\n",
       "      <th>HeartDisease</th>\n",
       "    </tr>\n",
       "  </thead>\n",
       "  <tbody>\n",
       "    <tr>\n",
       "      <th>0</th>\n",
       "      <td>40</td>\n",
       "      <td>M</td>\n",
       "      <td>ATA</td>\n",
       "      <td>140</td>\n",
       "      <td>289</td>\n",
       "      <td>0</td>\n",
       "      <td>Normal</td>\n",
       "      <td>172</td>\n",
       "      <td>N</td>\n",
       "      <td>0.0</td>\n",
       "      <td>Up</td>\n",
       "      <td>0</td>\n",
       "    </tr>\n",
       "    <tr>\n",
       "      <th>1</th>\n",
       "      <td>49</td>\n",
       "      <td>F</td>\n",
       "      <td>NAP</td>\n",
       "      <td>160</td>\n",
       "      <td>180</td>\n",
       "      <td>0</td>\n",
       "      <td>Normal</td>\n",
       "      <td>156</td>\n",
       "      <td>N</td>\n",
       "      <td>1.0</td>\n",
       "      <td>Flat</td>\n",
       "      <td>1</td>\n",
       "    </tr>\n",
       "    <tr>\n",
       "      <th>2</th>\n",
       "      <td>37</td>\n",
       "      <td>M</td>\n",
       "      <td>ATA</td>\n",
       "      <td>130</td>\n",
       "      <td>283</td>\n",
       "      <td>0</td>\n",
       "      <td>ST</td>\n",
       "      <td>98</td>\n",
       "      <td>N</td>\n",
       "      <td>0.0</td>\n",
       "      <td>Up</td>\n",
       "      <td>0</td>\n",
       "    </tr>\n",
       "    <tr>\n",
       "      <th>3</th>\n",
       "      <td>48</td>\n",
       "      <td>F</td>\n",
       "      <td>ASY</td>\n",
       "      <td>138</td>\n",
       "      <td>214</td>\n",
       "      <td>0</td>\n",
       "      <td>Normal</td>\n",
       "      <td>108</td>\n",
       "      <td>Y</td>\n",
       "      <td>1.5</td>\n",
       "      <td>Flat</td>\n",
       "      <td>1</td>\n",
       "    </tr>\n",
       "    <tr>\n",
       "      <th>4</th>\n",
       "      <td>54</td>\n",
       "      <td>M</td>\n",
       "      <td>NAP</td>\n",
       "      <td>150</td>\n",
       "      <td>195</td>\n",
       "      <td>0</td>\n",
       "      <td>Normal</td>\n",
       "      <td>122</td>\n",
       "      <td>N</td>\n",
       "      <td>0.0</td>\n",
       "      <td>Up</td>\n",
       "      <td>0</td>\n",
       "    </tr>\n",
       "  </tbody>\n",
       "</table>\n",
       "</div>"
      ],
      "text/plain": [
       "   Age Sex ChestPainType  RestingBP  Cholesterol  FastingBS RestingECG  MaxHR  \\\n",
       "0   40   M           ATA        140          289          0     Normal    172   \n",
       "1   49   F           NAP        160          180          0     Normal    156   \n",
       "2   37   M           ATA        130          283          0         ST     98   \n",
       "3   48   F           ASY        138          214          0     Normal    108   \n",
       "4   54   M           NAP        150          195          0     Normal    122   \n",
       "\n",
       "  ExerciseAngina  Oldpeak ST_Slope  HeartDisease  \n",
       "0              N      0.0       Up             0  \n",
       "1              N      1.0     Flat             1  \n",
       "2              N      0.0       Up             0  \n",
       "3              Y      1.5     Flat             1  \n",
       "4              N      0.0       Up             0  "
      ]
     },
     "execution_count": 68,
     "metadata": {},
     "output_type": "execute_result"
    }
   ],
   "source": [
    "df = pd.read_csv(\"../datasets/heart.csv\")\n",
    "df.head()"
   ]
  },
  {
   "cell_type": "code",
   "execution_count": 130,
   "metadata": {},
   "outputs": [
    {
     "name": "stderr",
     "output_type": "stream",
     "text": [
      "/var/folders/lm/m2_fflbn48511bslzzhkjymw0000gn/T/ipykernel_47832/3653637024.py:4: UserWarning: Matplotlib is currently using pgf, which is a non-GUI backend, so cannot show the figure.\n",
      "  plt.show()\n"
     ]
    },
    {
     "data": {
      "image/png": "[encoded data removed]",
      "text/plain": [
       "<Figure size 432x288 with 1 Axes>"
      ]
     },
     "metadata": {
      "needs_background": "light"
     },
     "output_type": "display_data"
    }
   ],
   "source": [
    "df[\"Sex\"].hist()\n",
    "plt.xlabel(\"Gender\")\n",
    "plt.ylabel(\"Counts\")\n",
    "plt.show()\n",
    "plt.savefig(\"../figures/heart_imbalance.pgf\")"
   ]
  },
  {
   "cell_type": "code",
   "execution_count": 70,
   "metadata": {},
   "outputs": [
    {
     "name": "stdout",
     "output_type": "stream",
     "text": [
      "Cleaned Data:\n",
      "[0.0 1.0 0.0 1.0 0.0 0.0 0.0 1.0 0.0 1.0 0.0 0.0 0.0 1.0\n",
      " -1.4331398004436657 0.4148614371130468 1.3829282169443904\n",
      " -0.832432393131704 0 0]\n"
     ]
    }
   ],
   "source": [
    "bp_idx = df[df[\"RestingBP\"] == 0].index[0]\n",
    "bp_avg = df[\"RestingBP\"].mean()\n",
    "df.loc[bp_idx, \"RestingBP\"] = bp_avg\n",
    "\n",
    "df.drop(\"Cholesterol\", axis=1, inplace=True)\n",
    "\n",
    "cat_cols = [1, 2, 5, 7, 9]\n",
    "num_cols = [0, 3, 6, 8]\n",
    "\n",
    "ct = ColumnTransformer([\n",
    "    ('categoric', OneHotEncoder(), cat_cols),\n",
    "    ('numeric', StandardScaler(), num_cols)\n",
    "    ], remainder='passthrough')\n",
    "\n",
    "data_clean = ct.fit_transform(df.values)\n",
    "print('Cleaned Data:')\n",
    "print(data_clean[0])"
   ]
  },
  {
   "cell_type": "code",
   "execution_count": 71,
   "metadata": {},
   "outputs": [
    {
     "name": "stdout",
     "output_type": "stream",
     "text": [
      "734\n",
      "184\n"
     ]
    }
   ],
   "source": [
    "X, y = data_clean.T[:-1].T.astype('float32'), data_clean.T[-1].astype('float32')\n",
    "X_train, X_test, y_train, y_test = train_test_split(X, y, test_size=0.2)\n",
    "\n",
    "print(len(X_train))\n",
    "print(len(X_test))"
   ]
  },
  {
   "cell_type": "code",
   "execution_count": 72,
   "metadata": {},
   "outputs": [],
   "source": [
    "class Model(nn.Module):\n",
    "    def __init__(self):\n",
    "        super().__init__()\n",
    "        self.model = nn.Sequential(\n",
    "            nn.Linear(X.shape[1], 24),\n",
    "            nn.Dropout(0.4),\n",
    "            nn.ReLU(),\n",
    "            nn.Linear(24, 24),\n",
    "            nn.Dropout(0.4),\n",
    "            nn.ReLU(),\n",
    "            nn.Linear(24, 24),\n",
    "            nn.Dropout(0.4),\n",
    "            nn.ReLU(),\n",
    "            nn.Linear(24, 2),\n",
    "            nn.LogSoftmax(dim=1)\n",
    "        )\n",
    "    \n",
    "    def forward(self, x):\n",
    "        return self.model(x)\n",
    "\n",
    "\n",
    "train_loader = torch.utils.data.DataLoader(list(zip(X_train, y_train.astype(int))), batch_size=16, shuffle=True)\n",
    "test_loader = torch.utils.data.DataLoader(list(zip(X_test, y_test.astype(int))), batch_size=16, shuffle=False)"
   ]
  },
  {
   "cell_type": "markdown",
   "metadata": {},
   "source": [
    "### Train Vanilla"
   ]
  },
  {
   "cell_type": "code",
   "execution_count": 101,
   "metadata": {},
   "outputs": [
    {
     "name": "stderr",
     "output_type": "stream",
     "text": [
      "100%|██████████| 46/46 [00:00<00:00, 757.58it/s]\n"
     ]
    },
    {
     "name": "stdout",
     "output_type": "stream",
     "text": [
      "Epoch: 1 Train Loss: 0.60 Train Acc@1: 69.90 Val Loss: 0.35 Val Acc@1: 85.42 \n"
     ]
    },
    {
     "name": "stderr",
     "output_type": "stream",
     "text": [
      "100%|██████████| 46/46 [00:00<00:00, 1221.16it/s]\n"
     ]
    },
    {
     "name": "stdout",
     "output_type": "stream",
     "text": [
      "Epoch: 2 Train Loss: 0.43 Train Acc@1: 82.94 Val Loss: 0.32 Val Acc@1: 90.62 \n"
     ]
    },
    {
     "name": "stderr",
     "output_type": "stream",
     "text": [
      "100%|██████████| 46/46 [00:00<00:00, 1157.31it/s]\n"
     ]
    },
    {
     "name": "stdout",
     "output_type": "stream",
     "text": [
      "Epoch: 3 Train Loss: 0.39 Train Acc@1: 84.08 Val Loss: 0.28 Val Acc@1: 91.15 \n"
     ]
    },
    {
     "name": "stderr",
     "output_type": "stream",
     "text": [
      "100%|██████████| 46/46 [00:00<00:00, 1220.42it/s]\n"
     ]
    },
    {
     "name": "stdout",
     "output_type": "stream",
     "text": [
      "Epoch: 4 Train Loss: 0.39 Train Acc@1: 84.65 Val Loss: 0.28 Val Acc@1: 90.62 \n"
     ]
    },
    {
     "name": "stderr",
     "output_type": "stream",
     "text": [
      "100%|██████████| 46/46 [00:00<00:00, 1086.60it/s]\n"
     ]
    },
    {
     "name": "stdout",
     "output_type": "stream",
     "text": [
      "Epoch: 5 Train Loss: 0.41 Train Acc@1: 84.63 Val Loss: 0.30 Val Acc@1: 90.62 \n"
     ]
    },
    {
     "name": "stderr",
     "output_type": "stream",
     "text": [
      "100%|██████████| 46/46 [00:00<00:00, 1252.11it/s]\n"
     ]
    },
    {
     "name": "stdout",
     "output_type": "stream",
     "text": [
      "Epoch: 6 Train Loss: 0.39 Train Acc@1: 85.64 Val Loss: 0.29 Val Acc@1: 88.54 \n"
     ]
    },
    {
     "name": "stderr",
     "output_type": "stream",
     "text": [
      "100%|██████████| 46/46 [00:00<00:00, 1209.76it/s]\n"
     ]
    },
    {
     "name": "stdout",
     "output_type": "stream",
     "text": [
      "Epoch: 7 Train Loss: 0.37 Train Acc@1: 85.95 Val Loss: 0.32 Val Acc@1: 89.58 \n"
     ]
    },
    {
     "name": "stderr",
     "output_type": "stream",
     "text": [
      "100%|██████████| 46/46 [00:00<00:00, 1357.29it/s]\n"
     ]
    },
    {
     "name": "stdout",
     "output_type": "stream",
     "text": [
      "Epoch: 8 Train Loss: 0.36 Train Acc@1: 85.29 Val Loss: 0.29 Val Acc@1: 91.15 \n"
     ]
    },
    {
     "name": "stderr",
     "output_type": "stream",
     "text": [
      "100%|██████████| 46/46 [00:00<00:00, 1310.80it/s]\n"
     ]
    },
    {
     "name": "stdout",
     "output_type": "stream",
     "text": [
      "Epoch: 9 Train Loss: 0.35 Train Acc@1: 85.31 Val Loss: 0.28 Val Acc@1: 90.10 \n"
     ]
    },
    {
     "name": "stderr",
     "output_type": "stream",
     "text": [
      "100%|██████████| 46/46 [00:00<00:00, 1125.96it/s]"
     ]
    },
    {
     "name": "stdout",
     "output_type": "stream",
     "text": [
      "Epoch: 10 Train Loss: 0.35 Train Acc@1: 86.94 Val Loss: 0.28 Val Acc@1: 90.62 \n"
     ]
    },
    {
     "name": "stderr",
     "output_type": "stream",
     "text": [
      "\n"
     ]
    }
   ],
   "source": [
    "model_vanilla, metrics_vanilla = pf.training.train_vanilla(\n",
    "    train_loader=train_loader,\n",
    "    val_loader=test_loader,\n",
    "    model_class=Model,\n",
    "    optim_class=optim.NAdam,\n",
    "    loss_fn=nn.NLLLoss(),\n",
    "    epochs=epochs,\n",
    "    lr=lr,\n",
    ")"
   ]
  },
  {
   "cell_type": "markdown",
   "metadata": {},
   "source": [
    "### Train DP-SGD"
   ]
  },
  {
   "cell_type": "code",
   "execution_count": 81,
   "metadata": {},
   "outputs": [
    {
     "name": "stderr",
     "output_type": "stream",
     "text": [
      "/Users/aahil/Desktop/PriFair/venv/lib/python3.9/site-packages/opacus/privacy_engine.py:114: UserWarning: Secure RNG turned off. This is perfectly fine for experimentation as it allows for much faster training performance, but remember to turn it on and retrain one last time before production with ``secure_mode`` turned on.\n",
      "  warnings.warn(\n",
      "/Users/aahil/Desktop/PriFair/venv/lib/python3.9/site-packages/opacus/accountants/analysis/rdp.py:332: UserWarning: Optimal order is the largest alpha. Please consider expanding the range of alphas to get a tighter privacy bound.\n",
      "  warnings.warn(\n",
      "  0%|          | 0/5 [00:00<?, ?it/s]/Users/aahil/Desktop/PriFair/venv/lib/python3.9/site-packages/torch/nn/modules/module.py:1033: UserWarning: Using a non-full backward hook when the forward contains multiple autograd Nodes is deprecated and will be removed in future versions. This hook will be missing some grad_input. Please use register_full_backward_hook to get the documented behavior.\n",
      "  warnings.warn(\"Using a non-full backward hook when the forward contains multiple autograd Nodes \"\n",
      "46it [00:00, 490.06it/s]             \n"
     ]
    },
    {
     "name": "stdout",
     "output_type": "stream",
     "text": [
      "Epoch: 1 Train Loss: 0.69 Train Acc@1: 52.64 Val Loss: 0.68 Val Acc@1: 54.69 (ε = 0.33, δ = 1e-05) \n"
     ]
    },
    {
     "name": "stderr",
     "output_type": "stream",
     "text": [
      "46it [00:00, 543.85it/s]             \n"
     ]
    },
    {
     "name": "stdout",
     "output_type": "stream",
     "text": [
      "Epoch: 2 Train Loss: 0.68 Train Acc@1: 57.47 Val Loss: 0.68 Val Acc@1: 54.69 (ε = 0.44, δ = 1e-05) \n"
     ]
    },
    {
     "name": "stderr",
     "output_type": "stream",
     "text": [
      "46it [00:00, 564.80it/s]             \n"
     ]
    },
    {
     "name": "stdout",
     "output_type": "stream",
     "text": [
      "Epoch: 3 Train Loss: 0.68 Train Acc@1: 58.25 Val Loss: 0.68 Val Acc@1: 54.69 (ε = 0.54, δ = 1e-05) \n"
     ]
    },
    {
     "name": "stderr",
     "output_type": "stream",
     "text": [
      "46it [00:00, 373.42it/s]             \n"
     ]
    },
    {
     "name": "stdout",
     "output_type": "stream",
     "text": [
      "Epoch: 4 Train Loss: 0.68 Train Acc@1: 55.71 Val Loss: 0.67 Val Acc@1: 54.69 (ε = 0.62, δ = 1e-05) \n"
     ]
    },
    {
     "name": "stderr",
     "output_type": "stream",
     "text": [
      "46it [00:00, 450.52it/s]             \n"
     ]
    },
    {
     "name": "stdout",
     "output_type": "stream",
     "text": [
      "Epoch: 5 Train Loss: 0.67 Train Acc@1: 58.36 Val Loss: 0.66 Val Acc@1: 58.85 (ε = 0.70, δ = 1e-05) \n"
     ]
    },
    {
     "name": "stderr",
     "output_type": "stream",
     "text": [
      "46it [00:00, 523.61it/s]             \n"
     ]
    },
    {
     "name": "stdout",
     "output_type": "stream",
     "text": [
      "Epoch: 6 Train Loss: 0.65 Train Acc@1: 63.74 Val Loss: 0.63 Val Acc@1: 65.10 (ε = 0.76, δ = 1e-05) \n"
     ]
    },
    {
     "name": "stderr",
     "output_type": "stream",
     "text": [
      "46it [00:00, 526.88it/s]             \n"
     ]
    },
    {
     "name": "stdout",
     "output_type": "stream",
     "text": [
      "Epoch: 7 Train Loss: 0.65 Train Acc@1: 63.76 Val Loss: 0.61 Val Acc@1: 68.75 (ε = 0.83, δ = 1e-05) \n"
     ]
    },
    {
     "name": "stderr",
     "output_type": "stream",
     "text": [
      "46it [00:00, 534.60it/s]             \n"
     ]
    },
    {
     "name": "stdout",
     "output_type": "stream",
     "text": [
      "Epoch: 8 Train Loss: 0.60 Train Acc@1: 68.20 Val Loss: 0.56 Val Acc@1: 72.92 (ε = 0.89, δ = 1e-05) \n"
     ]
    },
    {
     "name": "stderr",
     "output_type": "stream",
     "text": [
      "46it [00:00, 537.74it/s]             \n"
     ]
    },
    {
     "name": "stdout",
     "output_type": "stream",
     "text": [
      "Epoch: 9 Train Loss: 0.59 Train Acc@1: 69.79 Val Loss: 0.52 Val Acc@1: 77.60 (ε = 0.94, δ = 1e-05) \n"
     ]
    },
    {
     "name": "stderr",
     "output_type": "stream",
     "text": [
      "46it [00:00, 522.36it/s]             \n"
     ]
    },
    {
     "name": "stdout",
     "output_type": "stream",
     "text": [
      "Epoch: 10 Train Loss: 0.60 Train Acc@1: 71.47 Val Loss: 0.45 Val Acc@1: 80.21 (ε = 0.99, δ = 1e-05) \n"
     ]
    }
   ],
   "source": [
    "model_dpsgd, metrics_dpsgd = pf.training.train_dpsgd(\n",
    "    train_loader=train_loader,\n",
    "    val_loader=test_loader,\n",
    "    model_class=Model,\n",
    "    optim_class=optim.NAdam,\n",
    "    loss_fn=nn.NLLLoss(),\n",
    "    target_epsilon=epsilon,\n",
    "    target_delta=delta,\n",
    "    max_grad_norm=1.2,\n",
    "    epochs=epochs,\n",
    "    lr=lr,\n",
    ")"
   ]
  },
  {
   "cell_type": "markdown",
   "metadata": {},
   "source": [
    "### Train DP-SGD-F"
   ]
  },
  {
   "cell_type": "code",
   "execution_count": 103,
   "metadata": {},
   "outputs": [
    {
     "name": "stderr",
     "output_type": "stream",
     "text": [
      "/Users/aahil/Desktop/PriFair/venv/lib/python3.9/site-packages/opacus/accountants/analysis/rdp.py:332: UserWarning: Optimal order is the largest alpha. Please consider expanding the range of alphas to get a tighter privacy bound.\n",
      "  warnings.warn(\n"
     ]
    },
    {
     "name": "stdout",
     "output_type": "stream",
     "text": [
      "Training Model...\n"
     ]
    },
    {
     "name": "stderr",
     "output_type": "stream",
     "text": [
      "  0%|          | 0/46 [00:00<?, ?it/s]/Users/aahil/Desktop/PriFair/venv/lib/python3.9/site-packages/torch/nn/modules/module.py:1033: UserWarning: Using a non-full backward hook when the forward contains multiple autograd Nodes is deprecated and will be removed in future versions. This hook will be missing some grad_input. Please use register_full_backward_hook to get the documented behavior.\n",
      "  warnings.warn(\"Using a non-full backward hook when the forward contains multiple autograd Nodes \"\n",
      "100%|██████████| 46/46 [00:00<00:00, 75.00it/s]\n"
     ]
    },
    {
     "name": "stdout",
     "output_type": "stream",
     "text": [
      "Epoch: 1 Train Loss: 0.70 Train Acc@1: 49.99 Val Loss: 0.69 Val Acc@1: 56.25 (ε = 0.33, δ = 1e-05) \n"
     ]
    },
    {
     "name": "stderr",
     "output_type": "stream",
     "text": [
      "100%|██████████| 46/46 [00:00<00:00, 208.58it/s]\n"
     ]
    },
    {
     "name": "stdout",
     "output_type": "stream",
     "text": [
      "Epoch: 2 Train Loss: 0.69 Train Acc@1: 55.02 Val Loss: 0.68 Val Acc@1: 54.69 (ε = 0.44, δ = 1e-05) \n"
     ]
    },
    {
     "name": "stderr",
     "output_type": "stream",
     "text": [
      "100%|██████████| 46/46 [00:00<00:00, 405.55it/s]\n"
     ]
    },
    {
     "name": "stdout",
     "output_type": "stream",
     "text": [
      "Epoch: 3 Train Loss: 0.68 Train Acc@1: 55.34 Val Loss: 0.68 Val Acc@1: 54.69 (ε = 0.54, δ = 1e-05) \n"
     ]
    },
    {
     "name": "stderr",
     "output_type": "stream",
     "text": [
      "100%|██████████| 46/46 [00:00<00:00, 355.04it/s]\n"
     ]
    },
    {
     "name": "stdout",
     "output_type": "stream",
     "text": [
      "Epoch: 4 Train Loss: 0.68 Train Acc@1: 56.24 Val Loss: 0.67 Val Acc@1: 54.69 (ε = 0.62, δ = 1e-05) \n"
     ]
    },
    {
     "name": "stderr",
     "output_type": "stream",
     "text": [
      "100%|██████████| 46/46 [00:00<00:00, 427.76it/s]\n"
     ]
    },
    {
     "name": "stdout",
     "output_type": "stream",
     "text": [
      "Epoch: 5 Train Loss: 0.67 Train Acc@1: 56.33 Val Loss: 0.66 Val Acc@1: 54.69 (ε = 0.70, δ = 1e-05) \n"
     ]
    },
    {
     "name": "stderr",
     "output_type": "stream",
     "text": [
      "100%|██████████| 46/46 [00:00<00:00, 446.09it/s]\n"
     ]
    },
    {
     "name": "stdout",
     "output_type": "stream",
     "text": [
      "Epoch: 6 Train Loss: 0.64 Train Acc@1: 60.43 Val Loss: 0.63 Val Acc@1: 54.69 (ε = 0.76, δ = 1e-05) \n"
     ]
    },
    {
     "name": "stderr",
     "output_type": "stream",
     "text": [
      "100%|██████████| 46/46 [00:00<00:00, 416.79it/s]\n"
     ]
    },
    {
     "name": "stdout",
     "output_type": "stream",
     "text": [
      "Epoch: 7 Train Loss: 0.64 Train Acc@1: 61.84 Val Loss: 0.60 Val Acc@1: 55.73 (ε = 0.83, δ = 1e-05) \n"
     ]
    },
    {
     "name": "stderr",
     "output_type": "stream",
     "text": [
      "100%|██████████| 46/46 [00:00<00:00, 395.83it/s]\n"
     ]
    },
    {
     "name": "stdout",
     "output_type": "stream",
     "text": [
      "Epoch: 8 Train Loss: 0.65 Train Acc@1: 60.65 Val Loss: 0.56 Val Acc@1: 67.19 (ε = 0.89, δ = 1e-05) \n"
     ]
    },
    {
     "name": "stderr",
     "output_type": "stream",
     "text": [
      "100%|██████████| 46/46 [00:00<00:00, 416.92it/s]\n"
     ]
    },
    {
     "name": "stdout",
     "output_type": "stream",
     "text": [
      "Epoch: 9 Train Loss: 0.62 Train Acc@1: 62.87 Val Loss: 0.49 Val Acc@1: 79.17 (ε = 0.94, δ = 1e-05) \n"
     ]
    },
    {
     "name": "stderr",
     "output_type": "stream",
     "text": [
      "100%|██████████| 46/46 [00:00<00:00, 427.66it/s]"
     ]
    },
    {
     "name": "stdout",
     "output_type": "stream",
     "text": [
      "Epoch: 10 Train Loss: 0.57 Train Acc@1: 70.03 Val Loss: 0.46 Val Acc@1: 79.17 (ε = 0.99, δ = 1e-05) \n"
     ]
    },
    {
     "name": "stderr",
     "output_type": "stream",
     "text": [
      "\n"
     ]
    }
   ],
   "source": [
    "model_dpsgdf, metrics_dpsgdf = pf.training.train_dpsgdf(\n",
    "    train_loader=train_loader,\n",
    "    val_loader=test_loader,\n",
    "    model_class=Model,\n",
    "    optim_class=optim.NAdam,\n",
    "    loss_fn=nn.NLLLoss(),\n",
    "    target_epsilon=epsilon,\n",
    "    target_delta=delta,\n",
    "    base_clipping_threshold=1.2,\n",
    "    epochs=epochs,\n",
    "    group_labels=torch.LongTensor(X_train[:, 0]),\n",
    "    lr=lr\n",
    ")"
   ]
  },
  {
   "cell_type": "markdown",
   "metadata": {},
   "source": [
    "### Train DP-SGD-W"
   ]
  },
  {
   "cell_type": "code",
   "execution_count": 99,
   "metadata": {},
   "outputs": [
    {
     "name": "stdout",
     "output_type": "stream",
     "text": [
      "Reweighing...\n",
      "Training Model...\n"
     ]
    },
    {
     "name": "stderr",
     "output_type": "stream",
     "text": [
      "46it [00:00, 572.22it/s]             \n"
     ]
    },
    {
     "name": "stdout",
     "output_type": "stream",
     "text": [
      "Epoch: 1 Train Loss: 0.69 Train Acc@1: 48.71 Val Loss: 0.70 Val Acc@1: 47.92 (ε = 0.20, δ = 1e-05) \n"
     ]
    },
    {
     "name": "stderr",
     "output_type": "stream",
     "text": [
      "46it [00:00, 553.96it/s]             \n"
     ]
    },
    {
     "name": "stdout",
     "output_type": "stream",
     "text": [
      "Epoch: 2 Train Loss: 0.70 Train Acc@1: 48.26 Val Loss: 0.69 Val Acc@1: 54.69 (ε = 0.28, δ = 1e-05) \n"
     ]
    },
    {
     "name": "stderr",
     "output_type": "stream",
     "text": [
      "46it [00:00, 511.68it/s]             \n"
     ]
    },
    {
     "name": "stdout",
     "output_type": "stream",
     "text": [
      "Epoch: 3 Train Loss: 0.68 Train Acc@1: 54.14 Val Loss: 0.68 Val Acc@1: 54.69 (ε = 0.34, δ = 1e-05) \n"
     ]
    },
    {
     "name": "stderr",
     "output_type": "stream",
     "text": [
      "46it [00:00, 558.88it/s]             \n"
     ]
    },
    {
     "name": "stdout",
     "output_type": "stream",
     "text": [
      "Epoch: 4 Train Loss: 0.70 Train Acc@1: 49.90 Val Loss: 0.68 Val Acc@1: 54.69 (ε = 0.40, δ = 1e-05) \n"
     ]
    },
    {
     "name": "stderr",
     "output_type": "stream",
     "text": [
      "46it [00:00, 508.56it/s]             \n"
     ]
    },
    {
     "name": "stdout",
     "output_type": "stream",
     "text": [
      "Epoch: 5 Train Loss: 0.69 Train Acc@1: 52.09 Val Loss: 0.66 Val Acc@1: 66.67 (ε = 0.45, δ = 1e-05) \n"
     ]
    },
    {
     "name": "stderr",
     "output_type": "stream",
     "text": [
      "46it [00:00, 477.30it/s]             \n"
     ]
    },
    {
     "name": "stdout",
     "output_type": "stream",
     "text": [
      "Epoch: 6 Train Loss: 0.67 Train Acc@1: 57.34 Val Loss: 0.64 Val Acc@1: 73.44 (ε = 0.49, δ = 1e-05) \n"
     ]
    },
    {
     "name": "stderr",
     "output_type": "stream",
     "text": [
      "46it [00:00, 545.02it/s]             \n"
     ]
    },
    {
     "name": "stdout",
     "output_type": "stream",
     "text": [
      "Epoch: 7 Train Loss: 0.66 Train Acc@1: 60.86 Val Loss: 0.62 Val Acc@1: 63.54 (ε = 0.53, δ = 1e-05) \n"
     ]
    },
    {
     "name": "stderr",
     "output_type": "stream",
     "text": [
      "46it [00:00, 565.74it/s]             \n"
     ]
    },
    {
     "name": "stdout",
     "output_type": "stream",
     "text": [
      "Epoch: 8 Train Loss: 0.63 Train Acc@1: 64.77 Val Loss: 0.59 Val Acc@1: 78.65 (ε = 0.57, δ = 1e-05) \n"
     ]
    },
    {
     "name": "stderr",
     "output_type": "stream",
     "text": [
      "46it [00:00, 569.60it/s]             \n"
     ]
    },
    {
     "name": "stdout",
     "output_type": "stream",
     "text": [
      "Epoch: 9 Train Loss: 0.63 Train Acc@1: 62.05 Val Loss: 0.55 Val Acc@1: 78.65 (ε = 0.61, δ = 1e-05) \n"
     ]
    },
    {
     "name": "stderr",
     "output_type": "stream",
     "text": [
      "46it [00:00, 571.02it/s]             \n"
     ]
    },
    {
     "name": "stdout",
     "output_type": "stream",
     "text": [
      "Epoch: 10 Train Loss: 0.60 Train Acc@1: 67.46 Val Loss: 0.49 Val Acc@1: 79.69 (ε = 0.64, δ = 1e-05) \n"
     ]
    }
   ],
   "source": [
    "model_dpsgd_w, metrics_dpsgd_w = pf.training.train_dpsgd_weighted(\n",
    "    train_loader=train_loader,\n",
    "    val_loader=test_loader,\n",
    "    model_class=Model,\n",
    "    optim_class=optim.NAdam,\n",
    "    loss_fn=nn.NLLLoss(),\n",
    "    target_epsilon=epsilon,\n",
    "    target_delta=delta,\n",
    "    max_grad_norm=1.2,\n",
    "    epochs=epochs,\n",
    "    weighting=\"sensitive_attr\",\n",
    "    relative_weight_bound=relative_weight_bound,\n",
    "    labels=X_train[:, 0],\n",
    "    lr=lr\n",
    ")"
   ]
  },
  {
   "cell_type": "markdown",
   "metadata": {},
   "source": [
    "## Fairness Analysis"
   ]
  },
  {
   "cell_type": "code",
   "execution_count": 77,
   "metadata": {},
   "outputs": [],
   "source": [
    "import matplotlib as mpl\n",
    "\n",
    "mpl.use(\"pgf\")\n",
    "mpl.rcParams.update({\n",
    "    \"pgf.texsystem\": \"pdflatex\",\n",
    "    \"font.family\": \"serif\",\n",
    "    \"text.usetex\": True,\n",
    "    \"pgf.rcfonts\": False,\n",
    "})"
   ]
  },
  {
   "cell_type": "code",
   "execution_count": 111,
   "metadata": {},
   "outputs": [
    {
     "name": "stdout",
     "output_type": "stream",
     "text": [
      "Test Accuracy: 90.217391\n",
      "Test Accuracy: 79.347826\n",
      "Test Accuracy: 78.260870\n",
      "Test Accuracy: 78.804348\n"
     ]
    },
    {
     "name": "stderr",
     "output_type": "stream",
     "text": [
      "/var/folders/lm/m2_fflbn48511bslzzhkjymw0000gn/T/ipykernel_47832/2543330026.py:35: UserWarning: Matplotlib is currently using pgf, which is a non-GUI backend, so cannot show the figure.\n",
      "  plt.show()\n"
     ]
    },
    {
     "data": {
      "image/png": "[encoded data removed]",
      "text/plain": [
       "<Figure size 432x288 with 1 Axes>"
      ]
     },
     "metadata": {
      "needs_background": "light"
     },
     "output_type": "display_data"
    }
   ],
   "source": [
    "preds_vanilla = pf.utils.evaluate_model(model_vanilla, test_loader)\n",
    "preds_dpsgd = pf.utils.evaluate_model(model_dpsgd, test_loader)\n",
    "preds_dpsgdf = pf.utils.evaluate_model(model_dpsgdf, test_loader)\n",
    "preds_dpsgdw = pf.utils.evaluate_model(model_dpsgd_w, test_loader)\n",
    "sex_col = X_test[:, 0]\n",
    "\n",
    "model_names = [\"Vanilla\", \"DP-SGD\", \"DP-SGD-F\", \"DP-SGD-W\"]\n",
    "preds = [preds_vanilla, preds_dpsgd, preds_dpsgdf, preds_dpsgdw]\n",
    "accuracies = {c: np.zeros(len(model_names)) for c in np.unique(sex_col)}\n",
    "tprs = {c: np.zeros(len(model_names)) for c in np.unique(sex_col)}\n",
    "fprs = {c: np.zeros(len(model_names)) for c in np.unique(sex_col)}\n",
    "\n",
    "for i, model in enumerate(zip(model_names, preds)):\n",
    "    correct_mask = preds[i] == y_test\n",
    "    for c in accuracies.keys():\n",
    "        class_mask = sex_col == c\n",
    "        accuracies[c][i] = np.sum(correct_mask & class_mask) / np.sum(class_mask)\n",
    "\n",
    "        tn, fp, fn, tp = confusion_matrix(y_test[class_mask], preds[i][class_mask]).ravel()\n",
    "        tprs[c][i] = tp / (tp + fn)\n",
    "        fprs[c][i] = fp / (fp + tn)\n",
    "\n",
    "\n",
    "width = 0.2\n",
    "ind = np.arange(len(model_names))\n",
    "cmap = plt.get_cmap(\"Set1\")(range(5))\n",
    "for i, c in enumerate(accuracies.keys()):\n",
    "    plt.bar(ind + width * i, accuracies[c] * 100, width, label=str(c), color=cmap[i])\n",
    "\n",
    "plt.ylabel(\"Accuracy\")\n",
    "plt.legend([\"Male\", \"Female\"])\n",
    "plt.xticks(ind + width * (len(accuracies.keys()) - 1) / 2, model_names)\n",
    "plt.ylim(0, 119)\n",
    "plt.grid()\n",
    "plt.show()\n",
    "plt.savefig(\"../figures/cardio_utility.pgf\")"
   ]
  },
  {
   "cell_type": "code",
   "execution_count": 124,
   "metadata": {},
   "outputs": [
    {
     "name": "stderr",
     "output_type": "stream",
     "text": [
      "/var/folders/lm/m2_fflbn48511bslzzhkjymw0000gn/T/ipykernel_47832/2422474227.py:18: UserWarning: Matplotlib is currently using pgf, which is a non-GUI backend, so cannot show the figure.\n",
      "  plt.show()\n"
     ]
    },
    {
     "data": {
      "image/png": "[encoded data removed]",
      "text/plain": [
       "<Figure size 864x288 with 2 Axes>"
      ]
     },
     "metadata": {
      "needs_background": "light"
     },
     "output_type": "display_data"
    }
   ],
   "source": [
    "ax1, ax2 = plt.subplots(1, 2, figsize=(12, 4))[1]\n",
    "\n",
    "width = 0.2\n",
    "ind = np.arange(len(model_names))\n",
    "cmap = plt.get_cmap(\"Set1\")(range(5))\n",
    "for i, c in enumerate(tprs.keys()):\n",
    "    ax1.bar(ind + width * i, tprs[c], width, label=str(c), color=cmap[i])\n",
    "    ax2.bar(ind + width * i, fprs[c], width, label=str(c), color=cmap[i])\n",
    "\n",
    "ax1.set_ylabel(\"TPR\")\n",
    "ax1.legend([\"Male\", \"Female\"])\n",
    "ax1.set_xticks(ind + width * (len(tprs.keys()) - 1) / 2, model_names)\n",
    "ax1.grid()\n",
    "ax2.set_ylabel(\"FPR\")\n",
    "ax2.legend([\"Male\", \"Female\"])\n",
    "ax2.set_xticks(ind + width * (len(fprs.keys()) - 1) / 2, model_names)\n",
    "ax2.grid()\n",
    "plt.show()\n",
    "plt.savefig(\"../figures/cardio_equal_opp.pgf\")"
   ]
  }
 ],
 "metadata": {
  "kernelspec": {
   "display_name": "Python 3.9.5 ('venv': venv)",
   "language": "python",
   "name": "python3"
  },
  "language_info": {
   "codemirror_mode": {
    "name": "ipython",
    "version": 3
   },
   "file_extension": ".py",
   "mimetype": "text/x-python",
   "name": "python",
   "nbconvert_exporter": "python",
   "pygments_lexer": "ipython3",
   "version": "3.9.5"
  },
  "orig_nbformat": 4,
  "vscode": {
   "interpreter": {
    "hash": "137e9efa793c1091fd346a60a0bce44a1e8a680ca313b676547e9c83c6ce5d94"
   }
  }
 },
 "nbformat": 4,
 "nbformat_minor": 2
}
