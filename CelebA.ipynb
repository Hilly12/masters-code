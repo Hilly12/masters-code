{
  "nbformat": 4,
  "nbformat_minor": 0,
  "metadata": {
    "colab": {
      "name": "CelebA.ipynb",
      "provenance": [],
      "machine_shape": "hm",
      "collapsed_sections": [],
      "toc_visible": true,
      "authorship_tag": "ABX9TyOJ0q5a3v1dlFmt3KZMlRy2",
      "include_colab_link": true
    },
    "kernelspec": {
      "name": "python3",
      "display_name": "Python 3"
    },
    "language_info": {
      "name": "python"
    },
    "accelerator": "GPU"
  },
  "cells": [
    {
      "cell_type": "markdown",
      "metadata": {
        "id": "view-in-github",
        "colab_type": "text"
      },
      "source": [
        "<a href=\"https://colab.research.google.com/github/Hilly12/masters-code/blob/main/CelebA.ipynb\" target=\"_parent\"><img src=\"https://colab.research.google.com/assets/colab-badge.svg\" alt=\"Open In Colab\"/></a>"
      ]
    },
    {
      "cell_type": "markdown",
      "source": [
        "# Privacy and Fairness - CelebA"
      ],
      "metadata": {
        "id": "_lKgqJpw4c_o"
      }
    },
    {
      "cell_type": "markdown",
      "source": [
        "## Setup"
      ],
      "metadata": {
        "id": "qU2Q9LZv4lWQ"
      }
    },
    {
      "cell_type": "code",
      "source": [
        "!pip install opacus"
      ],
      "metadata": {
        "colab": {
          "base_uri": "https://localhost:8080/"
        },
        "id": "c7pHOPDtLuqS",
        "outputId": "7a5fcb13-ddd3-47f8-9f70-a9afd11b5b23"
      },
      "execution_count": 1,
      "outputs": [
        {
          "output_type": "stream",
          "name": "stdout",
          "text": [
            "Collecting opacus\n",
            "  Downloading opacus-1.1.1-py3-none-any.whl (175 kB)\n",
            "\u001b[?25l\r\u001b[K     |█▉                              | 10 kB 23.5 MB/s eta 0:00:01\r\u001b[K     |███▊                            | 20 kB 27.5 MB/s eta 0:00:01\r\u001b[K     |█████▋                          | 30 kB 28.9 MB/s eta 0:00:01\r\u001b[K     |███████▌                        | 40 kB 16.1 MB/s eta 0:00:01\r\u001b[K     |█████████▍                      | 51 kB 12.8 MB/s eta 0:00:01\r\u001b[K     |███████████▏                    | 61 kB 14.8 MB/s eta 0:00:01\r\u001b[K     |█████████████                   | 71 kB 14.8 MB/s eta 0:00:01\r\u001b[K     |███████████████                 | 81 kB 13.4 MB/s eta 0:00:01\r\u001b[K     |████████████████▉               | 92 kB 14.8 MB/s eta 0:00:01\r\u001b[K     |██████████████████▊             | 102 kB 15.6 MB/s eta 0:00:01\r\u001b[K     |████████████████████▌           | 112 kB 15.6 MB/s eta 0:00:01\r\u001b[K     |██████████████████████▍         | 122 kB 15.6 MB/s eta 0:00:01\r\u001b[K     |████████████████████████▎       | 133 kB 15.6 MB/s eta 0:00:01\r\u001b[K     |██████████████████████████▏     | 143 kB 15.6 MB/s eta 0:00:01\r\u001b[K     |████████████████████████████    | 153 kB 15.6 MB/s eta 0:00:01\r\u001b[K     |█████████████████████████████▉  | 163 kB 15.6 MB/s eta 0:00:01\r\u001b[K     |███████████████████████████████▊| 174 kB 15.6 MB/s eta 0:00:01\r\u001b[K     |████████████████████████████████| 175 kB 15.6 MB/s \n",
            "\u001b[?25hRequirement already satisfied: torch>=1.8 in /usr/local/lib/python3.7/dist-packages (from opacus) (1.10.0+cu111)\n",
            "Requirement already satisfied: numpy>=1.15 in /usr/local/lib/python3.7/dist-packages (from opacus) (1.21.5)\n",
            "Requirement already satisfied: scipy>=1.2 in /usr/local/lib/python3.7/dist-packages (from opacus) (1.4.1)\n",
            "Requirement already satisfied: typing-extensions in /usr/local/lib/python3.7/dist-packages (from torch>=1.8->opacus) (4.1.1)\n",
            "Installing collected packages: opacus\n",
            "Successfully installed opacus-1.1.1\n"
          ]
        }
      ]
    },
    {
      "cell_type": "code",
      "execution_count": 2,
      "metadata": {
        "id": "IHuNgzTKrdBk",
        "colab": {
          "base_uri": "https://localhost:8080/"
        },
        "outputId": "964bcc0e-01a7-4d7d-98b3-8f18250844b7"
      },
      "outputs": [
        {
          "output_type": "stream",
          "name": "stdout",
          "text": [
            "cuda\n"
          ]
        }
      ],
      "source": [
        "import os\n",
        "import json\n",
        "import numpy as np\n",
        "import pandas as pd\n",
        "import matplotlib.pyplot as plt\n",
        "import scipy\n",
        "import torch\n",
        "import torch.nn as nn\n",
        "import torch.optim as optim\n",
        "from google.colab import drive\n",
        "from opacus import PrivacyEngine\n",
        "from opacus.validators import ModuleValidator\n",
        "from opacus.utils.batch_memory_manager import BatchMemoryManager\n",
        "from torchvision import datasets, transforms, models\n",
        "from tqdm import tqdm\n",
        "from collections import OrderedDict\n",
        "from scipy.stats import wasserstein_distance\n",
        "from sklearn.metrics import confusion_matrix\n",
        "\n",
        "device = torch.device(\"cuda\" if torch.cuda.is_available() else \"cpu\")\n",
        "print(device)"
      ]
    },
    {
      "cell_type": "code",
      "source": [
        "drive.mount('/content/gdrive')\n",
        "\n",
        "data_root = \"data/celeba\"\n",
        "\n",
        "if not os.path.exists(data_root):\n",
        "    os.makedirs(data_root)\n",
        "\n",
        "!cp gdrive/My\\ Drive/Datasets/list_attr_celeba.txt \"$data_root\"\n",
        "!unzip -q -d \"$data_root\" gdrive/My\\ Drive/Datasets/img_align_celeba.zip"
      ],
      "metadata": {
        "id": "2_V_M5kcpU2k",
        "colab": {
          "base_uri": "https://localhost:8080/"
        },
        "outputId": "526de96e-a51d-462d-fe79-5848a7fc0601"
      },
      "execution_count": 3,
      "outputs": [
        {
          "output_type": "stream",
          "name": "stdout",
          "text": [
            "Mounted at /content/gdrive\n"
          ]
        }
      ]
    },
    {
      "cell_type": "markdown",
      "source": [
        "## Data Loading"
      ],
      "metadata": {
        "id": "ptd_GUGW4ojv"
      }
    },
    {
      "cell_type": "code",
      "source": [
        "mean = torch.Tensor([0.5, 0.5, 0.5])\n",
        "std = torch.Tensor([0.5, 0.5, 0.5])\n",
        "\n",
        "unnormalize = transforms.Normalize((-mean / std).tolist(), (1.0 / std).tolist())\n",
        "transform = transforms.Compose([\n",
        "    transforms.Resize(64),\n",
        "    transforms.CenterCrop(64),\n",
        "    transforms.ToTensor(),\n",
        "    transforms.Normalize(mean, std),\n",
        "])\n",
        "\n",
        "def denorm(x, channels=None, w=None, h=None, resize=False):\n",
        "    x = unnormalize(x)\n",
        "    if resize:\n",
        "        if channels is None or w is None or h is None:\n",
        "            print('Number of channels, width and height must be provided for resize.')\n",
        "        x = x.view(x.size(0), channels, w, h)\n",
        "    return x\n",
        "\n",
        "def show(img):\n",
        "    npimg = img.cpu().numpy()\n",
        "    plt.imshow(np.transpose(npimg, (1, 2, 0)))\n",
        "\n",
        "dataset = datasets.ImageFolder(root=data_root, transform=transform)\n",
        "df_attr = pd.read_csv(f\"{data_root}/list_attr_celeba.txt\", delim_whitespace=True, header=1)\n",
        "df_attr = ((df_attr + 1) / 2)\n",
        "df_attr.index = df_attr.index.set_names([\"Image\"])\n",
        "df_attr.reset_index(inplace=True)\n",
        "df_attr.head()"
      ],
      "metadata": {
        "id": "EVc8P3kqjEco",
        "colab": {
          "base_uri": "https://localhost:8080/",
          "height": 299
        },
        "outputId": "e1ff1cdc-1315-4a92-b109-af822b6b2299"
      },
      "execution_count": 11,
      "outputs": [
        {
          "output_type": "execute_result",
          "data": {
            "text/plain": [
              "        Image  5_o_Clock_Shadow  Arched_Eyebrows  Attractive  Bags_Under_Eyes  \\\n",
              "0  000001.jpg               0.0              1.0         1.0              0.0   \n",
              "1  000002.jpg               0.0              0.0         0.0              1.0   \n",
              "2  000003.jpg               0.0              0.0         0.0              0.0   \n",
              "3  000004.jpg               0.0              0.0         1.0              0.0   \n",
              "4  000005.jpg               0.0              1.0         1.0              0.0   \n",
              "\n",
              "   Bald  Bangs  Big_Lips  Big_Nose  Black_Hair  ...  Sideburns  Smiling  \\\n",
              "0   0.0    0.0       0.0       0.0         0.0  ...        0.0      1.0   \n",
              "1   0.0    0.0       0.0       1.0         0.0  ...        0.0      1.0   \n",
              "2   0.0    0.0       1.0       0.0         0.0  ...        0.0      0.0   \n",
              "3   0.0    0.0       0.0       0.0         0.0  ...        0.0      0.0   \n",
              "4   0.0    0.0       1.0       0.0         0.0  ...        0.0      0.0   \n",
              "\n",
              "   Straight_Hair  Wavy_Hair  Wearing_Earrings  Wearing_Hat  Wearing_Lipstick  \\\n",
              "0            1.0        0.0               1.0          0.0               1.0   \n",
              "1            0.0        0.0               0.0          0.0               0.0   \n",
              "2            0.0        1.0               0.0          0.0               0.0   \n",
              "3            1.0        0.0               1.0          0.0               1.0   \n",
              "4            0.0        0.0               0.0          0.0               1.0   \n",
              "\n",
              "   Wearing_Necklace  Wearing_Necktie  Young  \n",
              "0               0.0              0.0    1.0  \n",
              "1               0.0              0.0    1.0  \n",
              "2               0.0              0.0    1.0  \n",
              "3               1.0              0.0    1.0  \n",
              "4               0.0              0.0    1.0  \n",
              "\n",
              "[5 rows x 41 columns]"
            ],
            "text/html": [
              "\n",
              "  <div id=\"df-7fc6dd55-4d11-49a5-9e1f-4c3c5c2b9e9d\">\n",
              "    <div class=\"colab-df-container\">\n",
              "      <div>\n",
              "<style scoped>\n",
              "    .dataframe tbody tr th:only-of-type {\n",
              "        vertical-align: middle;\n",
              "    }\n",
              "\n",
              "    .dataframe tbody tr th {\n",
              "        vertical-align: top;\n",
              "    }\n",
              "\n",
              "    .dataframe thead th {\n",
              "        text-align: right;\n",
              "    }\n",
              "</style>\n",
              "<table border=\"1\" class=\"dataframe\">\n",
              "  <thead>\n",
              "    <tr style=\"text-align: right;\">\n",
              "      <th></th>\n",
              "      <th>Image</th>\n",
              "      <th>5_o_Clock_Shadow</th>\n",
              "      <th>Arched_Eyebrows</th>\n",
              "      <th>Attractive</th>\n",
              "      <th>Bags_Under_Eyes</th>\n",
              "      <th>Bald</th>\n",
              "      <th>Bangs</th>\n",
              "      <th>Big_Lips</th>\n",
              "      <th>Big_Nose</th>\n",
              "      <th>Black_Hair</th>\n",
              "      <th>...</th>\n",
              "      <th>Sideburns</th>\n",
              "      <th>Smiling</th>\n",
              "      <th>Straight_Hair</th>\n",
              "      <th>Wavy_Hair</th>\n",
              "      <th>Wearing_Earrings</th>\n",
              "      <th>Wearing_Hat</th>\n",
              "      <th>Wearing_Lipstick</th>\n",
              "      <th>Wearing_Necklace</th>\n",
              "      <th>Wearing_Necktie</th>\n",
              "      <th>Young</th>\n",
              "    </tr>\n",
              "  </thead>\n",
              "  <tbody>\n",
              "    <tr>\n",
              "      <th>0</th>\n",
              "      <td>000001.jpg</td>\n",
              "      <td>0.0</td>\n",
              "      <td>1.0</td>\n",
              "      <td>1.0</td>\n",
              "      <td>0.0</td>\n",
              "      <td>0.0</td>\n",
              "      <td>0.0</td>\n",
              "      <td>0.0</td>\n",
              "      <td>0.0</td>\n",
              "      <td>0.0</td>\n",
              "      <td>...</td>\n",
              "      <td>0.0</td>\n",
              "      <td>1.0</td>\n",
              "      <td>1.0</td>\n",
              "      <td>0.0</td>\n",
              "      <td>1.0</td>\n",
              "      <td>0.0</td>\n",
              "      <td>1.0</td>\n",
              "      <td>0.0</td>\n",
              "      <td>0.0</td>\n",
              "      <td>1.0</td>\n",
              "    </tr>\n",
              "    <tr>\n",
              "      <th>1</th>\n",
              "      <td>000002.jpg</td>\n",
              "      <td>0.0</td>\n",
              "      <td>0.0</td>\n",
              "      <td>0.0</td>\n",
              "      <td>1.0</td>\n",
              "      <td>0.0</td>\n",
              "      <td>0.0</td>\n",
              "      <td>0.0</td>\n",
              "      <td>1.0</td>\n",
              "      <td>0.0</td>\n",
              "      <td>...</td>\n",
              "      <td>0.0</td>\n",
              "      <td>1.0</td>\n",
              "      <td>0.0</td>\n",
              "      <td>0.0</td>\n",
              "      <td>0.0</td>\n",
              "      <td>0.0</td>\n",
              "      <td>0.0</td>\n",
              "      <td>0.0</td>\n",
              "      <td>0.0</td>\n",
              "      <td>1.0</td>\n",
              "    </tr>\n",
              "    <tr>\n",
              "      <th>2</th>\n",
              "      <td>000003.jpg</td>\n",
              "      <td>0.0</td>\n",
              "      <td>0.0</td>\n",
              "      <td>0.0</td>\n",
              "      <td>0.0</td>\n",
              "      <td>0.0</td>\n",
              "      <td>0.0</td>\n",
              "      <td>1.0</td>\n",
              "      <td>0.0</td>\n",
              "      <td>0.0</td>\n",
              "      <td>...</td>\n",
              "      <td>0.0</td>\n",
              "      <td>0.0</td>\n",
              "      <td>0.0</td>\n",
              "      <td>1.0</td>\n",
              "      <td>0.0</td>\n",
              "      <td>0.0</td>\n",
              "      <td>0.0</td>\n",
              "      <td>0.0</td>\n",
              "      <td>0.0</td>\n",
              "      <td>1.0</td>\n",
              "    </tr>\n",
              "    <tr>\n",
              "      <th>3</th>\n",
              "      <td>000004.jpg</td>\n",
              "      <td>0.0</td>\n",
              "      <td>0.0</td>\n",
              "      <td>1.0</td>\n",
              "      <td>0.0</td>\n",
              "      <td>0.0</td>\n",
              "      <td>0.0</td>\n",
              "      <td>0.0</td>\n",
              "      <td>0.0</td>\n",
              "      <td>0.0</td>\n",
              "      <td>...</td>\n",
              "      <td>0.0</td>\n",
              "      <td>0.0</td>\n",
              "      <td>1.0</td>\n",
              "      <td>0.0</td>\n",
              "      <td>1.0</td>\n",
              "      <td>0.0</td>\n",
              "      <td>1.0</td>\n",
              "      <td>1.0</td>\n",
              "      <td>0.0</td>\n",
              "      <td>1.0</td>\n",
              "    </tr>\n",
              "    <tr>\n",
              "      <th>4</th>\n",
              "      <td>000005.jpg</td>\n",
              "      <td>0.0</td>\n",
              "      <td>1.0</td>\n",
              "      <td>1.0</td>\n",
              "      <td>0.0</td>\n",
              "      <td>0.0</td>\n",
              "      <td>0.0</td>\n",
              "      <td>1.0</td>\n",
              "      <td>0.0</td>\n",
              "      <td>0.0</td>\n",
              "      <td>...</td>\n",
              "      <td>0.0</td>\n",
              "      <td>0.0</td>\n",
              "      <td>0.0</td>\n",
              "      <td>0.0</td>\n",
              "      <td>0.0</td>\n",
              "      <td>0.0</td>\n",
              "      <td>1.0</td>\n",
              "      <td>0.0</td>\n",
              "      <td>0.0</td>\n",
              "      <td>1.0</td>\n",
              "    </tr>\n",
              "  </tbody>\n",
              "</table>\n",
              "<p>5 rows × 41 columns</p>\n",
              "</div>\n",
              "      <button class=\"colab-df-convert\" onclick=\"convertToInteractive('df-7fc6dd55-4d11-49a5-9e1f-4c3c5c2b9e9d')\"\n",
              "              title=\"Convert this dataframe to an interactive table.\"\n",
              "              style=\"display:none;\">\n",
              "        \n",
              "  <svg xmlns=\"http://www.w3.org/2000/svg\" height=\"24px\"viewBox=\"0 0 24 24\"\n",
              "       width=\"24px\">\n",
              "    <path d=\"M0 0h24v24H0V0z\" fill=\"none\"/>\n",
              "    <path d=\"M18.56 5.44l.94 2.06.94-2.06 2.06-.94-2.06-.94-.94-2.06-.94 2.06-2.06.94zm-11 1L8.5 8.5l.94-2.06 2.06-.94-2.06-.94L8.5 2.5l-.94 2.06-2.06.94zm10 10l.94 2.06.94-2.06 2.06-.94-2.06-.94-.94-2.06-.94 2.06-2.06.94z\"/><path d=\"M17.41 7.96l-1.37-1.37c-.4-.4-.92-.59-1.43-.59-.52 0-1.04.2-1.43.59L10.3 9.45l-7.72 7.72c-.78.78-.78 2.05 0 2.83L4 21.41c.39.39.9.59 1.41.59.51 0 1.02-.2 1.41-.59l7.78-7.78 2.81-2.81c.8-.78.8-2.07 0-2.86zM5.41 20L4 18.59l7.72-7.72 1.47 1.35L5.41 20z\"/>\n",
              "  </svg>\n",
              "      </button>\n",
              "      \n",
              "  <style>\n",
              "    .colab-df-container {\n",
              "      display:flex;\n",
              "      flex-wrap:wrap;\n",
              "      gap: 12px;\n",
              "    }\n",
              "\n",
              "    .colab-df-convert {\n",
              "      background-color: #E8F0FE;\n",
              "      border: none;\n",
              "      border-radius: 50%;\n",
              "      cursor: pointer;\n",
              "      display: none;\n",
              "      fill: #1967D2;\n",
              "      height: 32px;\n",
              "      padding: 0 0 0 0;\n",
              "      width: 32px;\n",
              "    }\n",
              "\n",
              "    .colab-df-convert:hover {\n",
              "      background-color: #E2EBFA;\n",
              "      box-shadow: 0px 1px 2px rgba(60, 64, 67, 0.3), 0px 1px 3px 1px rgba(60, 64, 67, 0.15);\n",
              "      fill: #174EA6;\n",
              "    }\n",
              "\n",
              "    [theme=dark] .colab-df-convert {\n",
              "      background-color: #3B4455;\n",
              "      fill: #D2E3FC;\n",
              "    }\n",
              "\n",
              "    [theme=dark] .colab-df-convert:hover {\n",
              "      background-color: #434B5C;\n",
              "      box-shadow: 0px 1px 3px 1px rgba(0, 0, 0, 0.15);\n",
              "      filter: drop-shadow(0px 1px 2px rgba(0, 0, 0, 0.3));\n",
              "      fill: #FFFFFF;\n",
              "    }\n",
              "  </style>\n",
              "\n",
              "      <script>\n",
              "        const buttonEl =\n",
              "          document.querySelector('#df-7fc6dd55-4d11-49a5-9e1f-4c3c5c2b9e9d button.colab-df-convert');\n",
              "        buttonEl.style.display =\n",
              "          google.colab.kernel.accessAllowed ? 'block' : 'none';\n",
              "\n",
              "        async function convertToInteractive(key) {\n",
              "          const element = document.querySelector('#df-7fc6dd55-4d11-49a5-9e1f-4c3c5c2b9e9d');\n",
              "          const dataTable =\n",
              "            await google.colab.kernel.invokeFunction('convertToInteractive',\n",
              "                                                     [key], {});\n",
              "          if (!dataTable) return;\n",
              "\n",
              "          const docLinkHtml = 'Like what you see? Visit the ' +\n",
              "            '<a target=\"_blank\" href=https://colab.research.google.com/notebooks/data_table.ipynb>data table notebook</a>'\n",
              "            + ' to learn more about interactive tables.';\n",
              "          element.innerHTML = '';\n",
              "          dataTable['output_type'] = 'display_data';\n",
              "          await google.colab.output.renderOutput(dataTable, element);\n",
              "          const docLink = document.createElement('div');\n",
              "          docLink.innerHTML = docLinkHtml;\n",
              "          element.appendChild(docLink);\n",
              "        }\n",
              "      </script>\n",
              "    </div>\n",
              "  </div>\n",
              "  "
            ]
          },
          "metadata": {},
          "execution_count": 11
        }
      ]
    },
    {
      "cell_type": "code",
      "source": [
        "n_samples = 30000\n",
        "task = \"Smiling\"\n",
        "\n",
        "target_split = 0.1\n",
        "n_male = int(target_split * n_samples)\n",
        "n_female = int((1 - target_split) * n_samples)\n",
        "\n",
        "orig_m_mask = df_attr[\"Male\"] == 1\n",
        "orig_f_mask = df_attr[\"Male\"] == 0\n",
        "\n",
        "m_idxs = np.random.choice(df_attr[orig_m_mask].index, n_male, replace=False)\n",
        "f_idxs = np.random.choice(df_attr[orig_f_mask].index, n_female, replace=False)\n",
        "idxs = np.concatenate((m_idxs, f_idxs))\n",
        "np.random.shuffle(idxs)\n",
        "df = df_attr[df_attr.index.isin(idxs)].copy()\n",
        "\n",
        "m_mask = df[\"Male\"] == 1\n",
        "f_mask = df[\"Male\"] == 0\n",
        "\n",
        "print(\"Original\")\n",
        "print(f\"Males: {len(df_attr[orig_m_mask][task])} Females: {len(df_attr[orig_f_mask][task])}\")\n",
        "print(f\"Total: {len(df_attr)}\")\n",
        "print(f\"After Downsampling ({len(idxs)})\")\n",
        "print(f\"Males: {len(df[m_mask][task])} Females: {len(df[f_mask][task])}\")\n",
        "print(f\"Total: {len(df)}\")\n",
        "\n",
        "df_attr[orig_m_mask][task].hist()\n",
        "df[m_mask][task].hist()\n",
        "plt.title(task)\n",
        "plt.legend([\"Original\", \"Downsampled\"])\n",
        "plt.show()"
      ],
      "metadata": {
        "colab": {
          "base_uri": "https://localhost:8080/",
          "height": 385
        },
        "id": "92x28dJskyKA",
        "outputId": "5d00f835-55cf-4b37-d0c9-ca6eda316994"
      },
      "execution_count": 12,
      "outputs": [
        {
          "output_type": "stream",
          "name": "stdout",
          "text": [
            "Original\n",
            "Males: 84434 Females: 118165\n",
            "Total: 202599\n",
            "After Downsampling (30000)\n",
            "Males: 3000 Females: 27000\n",
            "Total: 30000\n"
          ]
        },
        {
          "output_type": "display_data",
          "data": {
            "text/plain": [
              "<Figure size 432x288 with 1 Axes>"
            ],
            "image/png": "[encoded data removed]"
          },
          "metadata": {
            "needs_background": "light"
          }
        }
      ]
    },
    {
      "cell_type": "code",
      "source": [
        "ax1, ax2 = plt.subplots(1, 2, figsize=(12, 4))[1]\n",
        "df[m_mask][task].hist(ax=ax1)\n",
        "df[f_mask][task].hist(ax=ax2)\n",
        "ax1.set_title(\"Male\")\n",
        "ax2.set_title(\"Female\")\n",
        "plt.show()"
      ],
      "metadata": {
        "colab": {
          "base_uri": "https://localhost:8080/",
          "height": 281
        },
        "id": "sBj1rG8O8F8I",
        "outputId": "bf9cc1c5-3869-4650-c907-81c451295baa"
      },
      "execution_count": 13,
      "outputs": [
        {
          "output_type": "display_data",
          "data": {
            "text/plain": [
              "<Figure size 864x288 with 2 Axes>"
            ],
            "image/png": "[encoded data removed]"
          },
          "metadata": {
            "needs_background": "light"
          }
        }
      ]
    },
    {
      "cell_type": "code",
      "source": [
        "data = []\n",
        "for idx in tqdm(idxs):\n",
        "    img = dataset[idx][0]\n",
        "    label = torch.Tensor([df_attr[task][idx]]).long().squeeze()\n",
        "    data.append([img, label])"
      ],
      "metadata": {
        "colab": {
          "base_uri": "https://localhost:8080/"
        },
        "id": "3EhUOg47aL9o",
        "outputId": "2f4221a2-2944-48d0-f7fe-aebe0c6a5c60"
      },
      "execution_count": 14,
      "outputs": [
        {
          "output_type": "stream",
          "name": "stderr",
          "text": [
            "100%|██████████| 30000/30000 [00:43<00:00, 690.34it/s]\n"
          ]
        }
      ]
    },
    {
      "cell_type": "code",
      "source": [
        "logical_batch_size = 512\n",
        "max_physical_batch_size = 128\n",
        "test_split = 0.2\n",
        "\n",
        "n = len(data)\n",
        "n_test = int(test_split * n)\n",
        "test_dataset = data[:n_test]\n",
        "train_dataset = data[n_test:]\n",
        "\n",
        "train_loader = torch.utils.data.DataLoader(\n",
        "    train_dataset,\n",
        "    batch_size=logical_batch_size,\n",
        "    shuffle=True\n",
        ")\n",
        "\n",
        "test_loader = torch.utils.data.DataLoader(\n",
        "    test_dataset,\n",
        "    batch_size=logical_batch_size,\n",
        "    shuffle=False\n",
        ")"
      ],
      "metadata": {
        "id": "EMEGezj4-AeZ"
      },
      "execution_count": 16,
      "outputs": []
    },
    {
      "cell_type": "code",
      "source": [
        "imgs, labels = next(iter(train_loader))\n",
        "idx = 0\n",
        "print(labels[idx])\n",
        "show(denorm(imgs[idx]))"
      ],
      "metadata": {
        "colab": {
          "base_uri": "https://localhost:8080/",
          "height": 285
        },
        "id": "6RH8-RUKFxRU",
        "outputId": "96706e50-2325-4b98-f392-53a74c0b814b"
      },
      "execution_count": 17,
      "outputs": [
        {
          "output_type": "stream",
          "name": "stdout",
          "text": [
            "tensor(1)\n"
          ]
        },
        {
          "output_type": "display_data",
          "data": {
            "text/plain": [
              "<Figure size 432x288 with 1 Axes>"
            ],
            "image/png": "[encoded data removed]"
          },
          "metadata": {
            "needs_background": "light"
          }
        }
      ]
    },
    {
      "cell_type": "markdown",
      "source": [
        "## Training the Models"
      ],
      "metadata": {
        "id": "HjXfveGA4sUV"
      }
    },
    {
      "cell_type": "markdown",
      "source": [
        "### Helpers"
      ],
      "metadata": {
        "id": "vY-77eEealki"
      }
    },
    {
      "cell_type": "code",
      "source": [
        "# Helpers\n",
        "\n",
        "def remove_hooks(model):\n",
        "    model._backward_hooks = OrderedDict()\n",
        "    model._forward_hooks = OrderedDict()\n",
        "    model._forward_pre_hooks = OrderedDict()\n",
        "    for child in model.children():\n",
        "        remove_hooks(child)\n",
        "\n",
        "def save_model(model, name):\n",
        "    path = \"/content/gdrive/MyDrive/Thesis/Models/\"\n",
        "    data = next(iter(train_loader))[0]\n",
        "    remove_hooks(model)\n",
        "\n",
        "    with torch.no_grad():\n",
        "        torch.jit.save(torch.jit.trace(model.cpu(), (data), check_trace=False), path + f\"{name}.pth\")\n",
        "\n",
        "def save_metrics(metrics, name):\n",
        "    path = \"/content/gdrive/MyDrive/Thesis/Metrics/\"\n",
        "\n",
        "    with open(path + f\"{name}.json\", 'w') as f:\n",
        "        json.dump(metrics, f)\n",
        "        f.close()\n",
        "\n",
        "def load_model(name):\n",
        "    path = \"/content/gdrive/MyDrive/Thesis/Models/\"\n",
        "\n",
        "    return torch.jit.load(path + f\"{name}.pth\")\n",
        "\n",
        "def load_metrics(name):\n",
        "    path = \"/content/gdrive/MyDrive/Thesis/Metrics/\"\n",
        "\n",
        "    with open(path + f\"{name}.json\", 'r') as f:\n",
        "        metrics = json.load(f)\n",
        "        f.close()\n",
        "\n",
        "    return metrics\n",
        "\n",
        "def evaluate(model, test_loader, return_outputs=False):\n",
        "    model.eval()\n",
        "\n",
        "    correct = 0\n",
        "    total = 0\n",
        "    pred_list = []\n",
        "    raw_outputs = []\n",
        "    with torch.no_grad():\n",
        "        for images, target in test_loader:\n",
        "            images = images.to(device)\n",
        "            target = target\n",
        "\n",
        "            output = model(images).detach().cpu()\n",
        "            preds = np.argmax(output, axis=1).numpy()\n",
        "            labels = target.numpy()\n",
        "\n",
        "            correct += (preds == labels).sum()\n",
        "\n",
        "            pred_list.append(preds)\n",
        "            raw_outputs.append(output)\n",
        "\n",
        "    acc = correct / len(test_loader.dataset)\n",
        "\n",
        "    print(f\"Test Accuracy: {acc * 100:.6f}\")\n",
        "\n",
        "    if return_outputs:\n",
        "        return np.concatenate(pred_list), np.concatenate(raw_outputs)\n",
        "\n",
        "    return np.concatenate(pred_list)"
      ],
      "metadata": {
        "id": "bqIzkSErak2K"
      },
      "execution_count": 18,
      "outputs": []
    },
    {
      "cell_type": "markdown",
      "source": [
        "### Training"
      ],
      "metadata": {
        "id": "-hPkkJkwasSK"
      }
    },
    {
      "cell_type": "code",
      "source": [
        "def train_vanilla(train_loader, epochs, pretrained=False):\n",
        "    if pretrained:\n",
        "        model = models.resnet18(pretrained=True)\n",
        "        model.fc = nn.Linear(512, 2)\n",
        "    else:\n",
        "        model = models.resnet18(num_classes=2)\n",
        "\n",
        "    model.to(device)\n",
        "\n",
        "    criterion = nn.CrossEntropyLoss()\n",
        "    optimizer = optim.NAdam(model.parameters())\n",
        "\n",
        "    model.train()\n",
        "    losses = []\n",
        "    accuracies = []\n",
        "\n",
        "    for epoch in range(epochs):\n",
        "        epoch_losses = []\n",
        "        epoch_accuracies = []\n",
        "\n",
        "        for i, (images, target) in enumerate(tqdm(train_loader)):   \n",
        "            optimizer.zero_grad()\n",
        "            images = images.to(device)\n",
        "            target = target.to(device)\n",
        "\n",
        "            output = model(images)\n",
        "            loss = criterion(output, target)\n",
        "\n",
        "            preds = np.argmax(output.detach().cpu().numpy(), axis=1)\n",
        "            labels = target.detach().cpu().numpy()\n",
        "\n",
        "            acc = (preds == labels).mean()\n",
        "\n",
        "            epoch_losses.append(loss.item())\n",
        "            epoch_accuracies.append(acc)\n",
        "\n",
        "            loss.backward()\n",
        "            optimizer.step()\n",
        "\n",
        "        print(\n",
        "            f\"Train Epoch: {epoch + 1} \"\n",
        "            f\"Loss: {np.mean(epoch_losses):.6f} \"\n",
        "            f\"Acc: {np.mean(epoch_accuracies) * 100:.6f} \"\n",
        "        )\n",
        "\n",
        "        losses.extend(epoch_losses)\n",
        "        accuracies.extend(epoch_accuracies)\n",
        "\n",
        "    metrics = { \"loss\": losses, \"accuracy\": accuracies }\n",
        "    return model, metrics\n",
        "\n",
        "\n",
        "def train_dpsgd(train_loader, max_grad_norm, epsilon, delta, epochs, pretrained=False):\n",
        "    if pretrained:\n",
        "        model = models.resnet18(pretrained=True)\n",
        "        model.fc = nn.Linear(512, 2)\n",
        "    else:\n",
        "        model = models.resnet18(num_classes=2)\n",
        "\n",
        "    model = ModuleValidator.fix(model)\n",
        "    assert ModuleValidator.validate(model, strict=False) == []\n",
        "\n",
        "    model = model.to(device)\n",
        "\n",
        "    criterion = nn.CrossEntropyLoss()\n",
        "    optimizer = optim.NAdam(model.parameters())\n",
        "    privacy_engine = PrivacyEngine()\n",
        "\n",
        "    model, optimizer, train_loader = privacy_engine.make_private_with_epsilon(\n",
        "        module=model,\n",
        "        optimizer=optimizer,\n",
        "        data_loader=train_loader,\n",
        "        epochs=epochs,\n",
        "        target_epsilon=epsilon,\n",
        "        target_delta=delta,\n",
        "        max_grad_norm=max_grad_norm,\n",
        "    )\n",
        "    \n",
        "    model.train()\n",
        "    losses = []\n",
        "    accuracies = []\n",
        "\n",
        "    for epoch in range(epochs):\n",
        "        epoch_losses = []\n",
        "        epoch_accuracies = []\n",
        "        \n",
        "        with BatchMemoryManager(\n",
        "            data_loader=train_loader, \n",
        "            max_physical_batch_size=max_physical_batch_size, \n",
        "            optimizer=optimizer\n",
        "        ) as memory_safe_data_loader:\n",
        "\n",
        "            for i, (images, target) in enumerate(tqdm(memory_safe_data_loader)):   \n",
        "                optimizer.zero_grad()\n",
        "                images = images.to(device)\n",
        "                target = target.to(device)\n",
        "\n",
        "                output = model(images)\n",
        "                loss = criterion(output, target)\n",
        "\n",
        "                preds = np.argmax(output.detach().cpu().numpy(), axis=1)\n",
        "                labels = target.detach().cpu().numpy()\n",
        "\n",
        "                acc = (preds == labels).mean()\n",
        "\n",
        "                epoch_losses.append(loss.item())\n",
        "                epoch_accuracies.append(acc)\n",
        "\n",
        "                loss.backward()\n",
        "                optimizer.step()\n",
        "\n",
        "            epsilon = privacy_engine.get_epsilon(delta)\n",
        "\n",
        "        print(\n",
        "            f\"Train Epoch: {epoch + 1} \"\n",
        "            f\"Loss: {np.mean(epoch_losses):.6f} \"\n",
        "            f\"Acc: {np.mean(epoch_accuracies) * 100:.6f} \"\n",
        "            f\"(ε = {epsilon:.2f}, δ = {delta})\"\n",
        "        )\n",
        "\n",
        "        losses.extend(epoch_losses)\n",
        "        accuracies.extend(epoch_accuracies)\n",
        "\n",
        "    metrics = { \"loss\": losses, \"accuracy\": accuracies }\n",
        "    return model, metrics"
      ],
      "metadata": {
        "id": "obcggrVRLG4L"
      },
      "execution_count": 19,
      "outputs": []
    },
    {
      "cell_type": "code",
      "source": [
        "model_vanilla, metrics_vanilla = train_vanilla(\n",
        "    train_loader=train_loader,\n",
        "    epochs=5,\n",
        "    pretrained=True\n",
        ")"
      ],
      "metadata": {
        "colab": {
          "base_uri": "https://localhost:8080/"
        },
        "id": "ucr_gHjNgXak",
        "outputId": "e2b9bd83-80c7-42bf-fbf8-ff0d70fd465c"
      },
      "execution_count": 21,
      "outputs": [
        {
          "output_type": "stream",
          "name": "stderr",
          "text": [
            "100%|██████████| 47/47 [00:22<00:00,  2.07it/s]\n"
          ]
        },
        {
          "output_type": "stream",
          "name": "stdout",
          "text": [
            "Train Epoch: 1 Loss: 0.399570 Acc: 84.432585 \n"
          ]
        },
        {
          "output_type": "stream",
          "name": "stderr",
          "text": [
            "100%|██████████| 47/47 [00:23<00:00,  2.04it/s]\n"
          ]
        },
        {
          "output_type": "stream",
          "name": "stdout",
          "text": [
            "Train Epoch: 2 Loss: 0.179058 Acc: 92.343038 \n"
          ]
        },
        {
          "output_type": "stream",
          "name": "stderr",
          "text": [
            "100%|██████████| 47/47 [00:23<00:00,  2.04it/s]\n"
          ]
        },
        {
          "output_type": "stream",
          "name": "stdout",
          "text": [
            "Train Epoch: 3 Loss: 0.158389 Acc: 93.047112 \n"
          ]
        },
        {
          "output_type": "stream",
          "name": "stderr",
          "text": [
            "100%|██████████| 47/47 [00:23<00:00,  2.03it/s]\n"
          ]
        },
        {
          "output_type": "stream",
          "name": "stdout",
          "text": [
            "Train Epoch: 4 Loss: 0.139149 Acc: 93.994586 \n"
          ]
        },
        {
          "output_type": "stream",
          "name": "stderr",
          "text": [
            "100%|██████████| 47/47 [00:23<00:00,  2.02it/s]"
          ]
        },
        {
          "output_type": "stream",
          "name": "stdout",
          "text": [
            "Train Epoch: 5 Loss: 0.110942 Acc: 95.082756 \n"
          ]
        },
        {
          "output_type": "stream",
          "name": "stderr",
          "text": [
            "\n"
          ]
        }
      ]
    },
    {
      "cell_type": "code",
      "source": [
        "evaluate(model_vanilla, test_loader);"
      ],
      "metadata": {
        "colab": {
          "base_uri": "https://localhost:8080/"
        },
        "id": "wRocnwGZg3vX",
        "outputId": "8673529e-2c3b-4ef1-d99d-3bbcba0155b9"
      },
      "execution_count": 22,
      "outputs": [
        {
          "output_type": "stream",
          "name": "stdout",
          "text": [
            "Test Accuracy: 91.883333\n"
          ]
        }
      ]
    },
    {
      "cell_type": "code",
      "source": [
        "id = f\"m{len(df[m_mask]) / len(df):.2f}\"\n",
        "\n",
        "save_model(model_vanilla, f\"Vanilla({id})\")\n",
        "save_metrics(metrics_vanilla, f\"Vanilla({id})\")"
      ],
      "metadata": {
        "id": "ZnADWbqhRPpQ"
      },
      "execution_count": 23,
      "outputs": []
    },
    {
      "cell_type": "code",
      "source": [
        "model_dpsgd, metrics_dpsgd = train_dpsgd(\n",
        "    train_loader=train_loader,\n",
        "    max_grad_norm=1.5,\n",
        "    epsilon=1,\n",
        "    delta=1e-5,\n",
        "    epochs=5,\n",
        "    pretrained=True\n",
        ")"
      ],
      "metadata": {
        "colab": {
          "base_uri": "https://localhost:8080/"
        },
        "id": "Isx1ClRiV5oK",
        "outputId": "08daad2f-a256-490f-f3a1-90566615a38e"
      },
      "execution_count": 24,
      "outputs": [
        {
          "output_type": "stream",
          "name": "stderr",
          "text": [
            "/usr/local/lib/python3.7/dist-packages/opacus/privacy_engine.py:115: UserWarning: Secure RNG turned off. This is perfectly fine for experimentation as it allows for much faster training performance, but remember to turn it on and retrain one last time before production with ``secure_mode`` turned on.\n",
            "  \"Secure RNG turned off. This is perfectly fine for experimentation as it allows \"\n",
            "/usr/local/lib/python3.7/dist-packages/opacus/accountants/analysis/rdp.py:333: UserWarning: Optimal order is the largest alpha. Please consider expanding the range of alphas to get a tighter privacy bound.\n",
            "  f\"Optimal order is the {extreme} alpha. Please consider expanding the range of alphas to get a tighter privacy bound.\"\n",
            "  0%|          | 0/187 [00:00<?, ?it/s]/usr/local/lib/python3.7/dist-packages/torch/nn/modules/module.py:1025: UserWarning: Using a non-full backward hook when the forward contains multiple autograd Nodes is deprecated and will be removed in future versions. This hook will be missing some grad_input. Please use register_full_backward_hook to get the documented behavior.\n",
            "  warnings.warn(\"Using a non-full backward hook when the forward contains multiple autograd Nodes \"\n",
            "204it [00:38,  5.26it/s]\n"
          ]
        },
        {
          "output_type": "stream",
          "name": "stdout",
          "text": [
            "Train Epoch: 1 Loss: 1.297057 Acc: 53.763831 (ε = 0.54, δ = 1e-05)\n"
          ]
        },
        {
          "output_type": "stream",
          "name": "stderr",
          "text": [
            "210it [00:39,  5.32it/s]\n"
          ]
        },
        {
          "output_type": "stream",
          "name": "stdout",
          "text": [
            "Train Epoch: 2 Loss: 1.113940 Acc: 66.883023 (ε = 0.67, δ = 1e-05)\n"
          ]
        },
        {
          "output_type": "stream",
          "name": "stderr",
          "text": [
            "213it [00:39,  5.34it/s]\n"
          ]
        },
        {
          "output_type": "stream",
          "name": "stdout",
          "text": [
            "Train Epoch: 3 Loss: 0.732602 Acc: 80.297144 (ε = 0.78, δ = 1e-05)\n"
          ]
        },
        {
          "output_type": "stream",
          "name": "stderr",
          "text": [
            "204it [00:39,  5.14it/s]\n"
          ]
        },
        {
          "output_type": "stream",
          "name": "stdout",
          "text": [
            "Train Epoch: 4 Loss: 0.441019 Acc: 88.461520 (ε = 0.89, δ = 1e-05)\n"
          ]
        },
        {
          "output_type": "stream",
          "name": "stderr",
          "text": [
            "211it [00:39,  5.28it/s]"
          ]
        },
        {
          "output_type": "stream",
          "name": "stdout",
          "text": [
            "Train Epoch: 5 Loss: 0.429840 Acc: 89.053799 (ε = 0.99, δ = 1e-05)\n"
          ]
        },
        {
          "output_type": "stream",
          "name": "stderr",
          "text": [
            "\n"
          ]
        }
      ]
    },
    {
      "cell_type": "code",
      "source": [
        "evaluate(model_dpsgd, test_loader);"
      ],
      "metadata": {
        "colab": {
          "base_uri": "https://localhost:8080/"
        },
        "id": "CS5AOxtXskhc",
        "outputId": "52eda535-887b-4481-d6fb-595d7fa85a7a"
      },
      "execution_count": 25,
      "outputs": [
        {
          "output_type": "stream",
          "name": "stdout",
          "text": [
            "Test Accuracy: 90.300000\n"
          ]
        }
      ]
    },
    {
      "cell_type": "code",
      "source": [
        "save_model(model_dpsgd, f\"DPSGD({id})\")\n",
        "save_metrics(metrics_dpsgd, f\"DPSGD({id})\")"
      ],
      "metadata": {
        "colab": {
          "base_uri": "https://localhost:8080/"
        },
        "id": "tiXe58RMC-27",
        "outputId": "366e39ac-2fd2-4972-a541-437122003d6e"
      },
      "execution_count": 26,
      "outputs": [
        {
          "output_type": "stream",
          "name": "stderr",
          "text": [
            "/usr/local/lib/python3.7/dist-packages/torch/nn/functional.py:2359: UserWarning: __floordiv__ is deprecated, and its behavior will change in a future version of pytorch. It currently rounds toward 0 (like the 'trunc' function NOT 'floor'). This results in incorrect rounding for negative values. To keep the current behavior, use torch.div(a, b, rounding_mode='trunc'), or for actual floor division, use torch.div(a, b, rounding_mode='floor').\n",
            "  _verify_batch_size([input.size(0) * input.size(1) // num_groups, num_groups] + list(input.size()[2:]))\n"
          ]
        }
      ]
    },
    {
      "cell_type": "code",
      "source": [
        "plt.plot(metrics_vanilla[\"accuracy\"])\n",
        "plt.show()"
      ],
      "metadata": {
        "colab": {
          "base_uri": "https://localhost:8080/",
          "height": 268
        },
        "id": "K-BEi2cdbTcE",
        "outputId": "7f7ebd89-6be1-463e-c707-5a2885849b30"
      },
      "execution_count": 27,
      "outputs": [
        {
          "output_type": "display_data",
          "data": {
            "text/plain": [
              "<Figure size 432x288 with 1 Axes>"
            ],
            "image/png": "[encoded data removed]"
          },
          "metadata": {
            "needs_background": "light"
          }
        }
      ]
    },
    {
      "cell_type": "code",
      "source": [
        "plt.plot(metrics_dpsgd[\"accuracy\"])\n",
        "plt.show()"
      ],
      "metadata": {
        "colab": {
          "base_uri": "https://localhost:8080/",
          "height": 265
        },
        "id": "7TP8aBoxpbgA",
        "outputId": "e08683f7-3093-4547-c168-ae11a75a15c9"
      },
      "execution_count": 28,
      "outputs": [
        {
          "output_type": "display_data",
          "data": {
            "text/plain": [
              "<Figure size 432x288 with 1 Axes>"
            ],
            "image/png": "[encoded data removed]"
          },
          "metadata": {
            "needs_background": "light"
          }
        }
      ]
    },
    {
      "cell_type": "markdown",
      "source": [
        "## Fairness Analysis"
      ],
      "metadata": {
        "id": "vkDccsVf4Zzs"
      }
    },
    {
      "cell_type": "code",
      "source": [
        "id = \"m0.10\"\n",
        "\n",
        "model_vanilla = load_model(f\"Vanilla({id})\")\n",
        "model_dpsgd = load_model(f\"DPSGD({id})\")\n",
        "metrics_vanilla = load_metrics(f\"Vanilla({id})\")\n",
        "metrics_dpsgd = load_metrics(f\"DPSGD({id})\")"
      ],
      "metadata": {
        "id": "s07SKkYobtgJ"
      },
      "execution_count": 29,
      "outputs": []
    },
    {
      "cell_type": "code",
      "source": [
        "preds_vanilla, outs_vanilla = evaluate(model_vanilla.to(device), test_loader, return_outputs=True)\n",
        "preds_dpsgd, outs_dpsgd = evaluate(model_dpsgd.to(device), test_loader, return_outputs=True)"
      ],
      "metadata": {
        "colab": {
          "base_uri": "https://localhost:8080/"
        },
        "id": "DmmoYYXwVsdT",
        "outputId": "273e43d9-6a2c-483c-cdd0-b9ce5927585c"
      },
      "execution_count": 30,
      "outputs": [
        {
          "output_type": "stream",
          "name": "stdout",
          "text": [
            "Test Accuracy: 91.883333\n",
            "Test Accuracy: 90.300000\n"
          ]
        }
      ]
    },
    {
      "cell_type": "code",
      "source": [
        "df_test = df[:n_test].copy()\n",
        "df_test.loc[:, \"preds_vanilla\"] = preds_vanilla.astype(float)\n",
        "df_test.loc[:, \"preds_dpsgd\"] = preds_dpsgd.astype(float)\n",
        "df_test.head()"
      ],
      "metadata": {
        "id": "H42aqRUB4bn3",
        "colab": {
          "base_uri": "https://localhost:8080/",
          "height": 299
        },
        "outputId": "0a08d86c-7e05-4902-afd4-36ea4962d29e"
      },
      "execution_count": 31,
      "outputs": [
        {
          "output_type": "execute_result",
          "data": {
            "text/plain": [
              "         Image  5_o_Clock_Shadow  Arched_Eyebrows  Attractive  \\\n",
              "3   000004.jpg               0.0              0.0         1.0   \n",
              "11  000012.jpg               0.0              0.0         1.0   \n",
              "17  000018.jpg               0.0              1.0         0.0   \n",
              "19  000020.jpg               0.0              0.0         0.0   \n",
              "21  000022.jpg               0.0              1.0         0.0   \n",
              "\n",
              "    Bags_Under_Eyes  Bald  Bangs  Big_Lips  Big_Nose  Black_Hair  ...  \\\n",
              "3               0.0   0.0    0.0       0.0       0.0         0.0  ...   \n",
              "11              1.0   0.0    0.0       0.0       0.0         1.0  ...   \n",
              "17              0.0   0.0    0.0       0.0       1.0         0.0  ...   \n",
              "19              0.0   0.0    0.0       0.0       0.0         1.0  ...   \n",
              "21              0.0   0.0    0.0       1.0       0.0         0.0  ...   \n",
              "\n",
              "    Straight_Hair  Wavy_Hair  Wearing_Earrings  Wearing_Hat  Wearing_Lipstick  \\\n",
              "3             1.0        0.0               1.0          0.0               1.0   \n",
              "11            1.0        0.0               0.0          0.0               0.0   \n",
              "17            0.0        1.0               1.0          0.0               1.0   \n",
              "19            0.0        0.0               0.0          0.0               0.0   \n",
              "21            0.0        1.0               0.0          0.0               1.0   \n",
              "\n",
              "    Wearing_Necklace  Wearing_Necktie  Young  preds_vanilla  preds_dpsgd  \n",
              "3                1.0              0.0    1.0            0.0          0.0  \n",
              "11               0.0              0.0    1.0            0.0          0.0  \n",
              "17               1.0              0.0    0.0            1.0          1.0  \n",
              "19               0.0              0.0    1.0            1.0          1.0  \n",
              "21               1.0              0.0    1.0            1.0          1.0  \n",
              "\n",
              "[5 rows x 43 columns]"
            ],
            "text/html": [
              "\n",
              "  <div id=\"df-9509f146-c98d-4fd8-ad9f-44da85a20907\">\n",
              "    <div class=\"colab-df-container\">\n",
              "      <div>\n",
              "<style scoped>\n",
              "    .dataframe tbody tr th:only-of-type {\n",
              "        vertical-align: middle;\n",
              "    }\n",
              "\n",
              "    .dataframe tbody tr th {\n",
              "        vertical-align: top;\n",
              "    }\n",
              "\n",
              "    .dataframe thead th {\n",
              "        text-align: right;\n",
              "    }\n",
              "</style>\n",
              "<table border=\"1\" class=\"dataframe\">\n",
              "  <thead>\n",
              "    <tr style=\"text-align: right;\">\n",
              "      <th></th>\n",
              "      <th>Image</th>\n",
              "      <th>5_o_Clock_Shadow</th>\n",
              "      <th>Arched_Eyebrows</th>\n",
              "      <th>Attractive</th>\n",
              "      <th>Bags_Under_Eyes</th>\n",
              "      <th>Bald</th>\n",
              "      <th>Bangs</th>\n",
              "      <th>Big_Lips</th>\n",
              "      <th>Big_Nose</th>\n",
              "      <th>Black_Hair</th>\n",
              "      <th>...</th>\n",
              "      <th>Straight_Hair</th>\n",
              "      <th>Wavy_Hair</th>\n",
              "      <th>Wearing_Earrings</th>\n",
              "      <th>Wearing_Hat</th>\n",
              "      <th>Wearing_Lipstick</th>\n",
              "      <th>Wearing_Necklace</th>\n",
              "      <th>Wearing_Necktie</th>\n",
              "      <th>Young</th>\n",
              "      <th>preds_vanilla</th>\n",
              "      <th>preds_dpsgd</th>\n",
              "    </tr>\n",
              "  </thead>\n",
              "  <tbody>\n",
              "    <tr>\n",
              "      <th>3</th>\n",
              "      <td>000004.jpg</td>\n",
              "      <td>0.0</td>\n",
              "      <td>0.0</td>\n",
              "      <td>1.0</td>\n",
              "      <td>0.0</td>\n",
              "      <td>0.0</td>\n",
              "      <td>0.0</td>\n",
              "      <td>0.0</td>\n",
              "      <td>0.0</td>\n",
              "      <td>0.0</td>\n",
              "      <td>...</td>\n",
              "      <td>1.0</td>\n",
              "      <td>0.0</td>\n",
              "      <td>1.0</td>\n",
              "      <td>0.0</td>\n",
              "      <td>1.0</td>\n",
              "      <td>1.0</td>\n",
              "      <td>0.0</td>\n",
              "      <td>1.0</td>\n",
              "      <td>0.0</td>\n",
              "      <td>0.0</td>\n",
              "    </tr>\n",
              "    <tr>\n",
              "      <th>11</th>\n",
              "      <td>000012.jpg</td>\n",
              "      <td>0.0</td>\n",
              "      <td>0.0</td>\n",
              "      <td>1.0</td>\n",
              "      <td>1.0</td>\n",
              "      <td>0.0</td>\n",
              "      <td>0.0</td>\n",
              "      <td>0.0</td>\n",
              "      <td>0.0</td>\n",
              "      <td>1.0</td>\n",
              "      <td>...</td>\n",
              "      <td>1.0</td>\n",
              "      <td>0.0</td>\n",
              "      <td>0.0</td>\n",
              "      <td>0.0</td>\n",
              "      <td>0.0</td>\n",
              "      <td>0.0</td>\n",
              "      <td>0.0</td>\n",
              "      <td>1.0</td>\n",
              "      <td>0.0</td>\n",
              "      <td>0.0</td>\n",
              "    </tr>\n",
              "    <tr>\n",
              "      <th>17</th>\n",
              "      <td>000018.jpg</td>\n",
              "      <td>0.0</td>\n",
              "      <td>1.0</td>\n",
              "      <td>0.0</td>\n",
              "      <td>0.0</td>\n",
              "      <td>0.0</td>\n",
              "      <td>0.0</td>\n",
              "      <td>0.0</td>\n",
              "      <td>1.0</td>\n",
              "      <td>0.0</td>\n",
              "      <td>...</td>\n",
              "      <td>0.0</td>\n",
              "      <td>1.0</td>\n",
              "      <td>1.0</td>\n",
              "      <td>0.0</td>\n",
              "      <td>1.0</td>\n",
              "      <td>1.0</td>\n",
              "      <td>0.0</td>\n",
              "      <td>0.0</td>\n",
              "      <td>1.0</td>\n",
              "      <td>1.0</td>\n",
              "    </tr>\n",
              "    <tr>\n",
              "      <th>19</th>\n",
              "      <td>000020.jpg</td>\n",
              "      <td>0.0</td>\n",
              "      <td>0.0</td>\n",
              "      <td>0.0</td>\n",
              "      <td>0.0</td>\n",
              "      <td>0.0</td>\n",
              "      <td>0.0</td>\n",
              "      <td>0.0</td>\n",
              "      <td>0.0</td>\n",
              "      <td>1.0</td>\n",
              "      <td>...</td>\n",
              "      <td>0.0</td>\n",
              "      <td>0.0</td>\n",
              "      <td>0.0</td>\n",
              "      <td>0.0</td>\n",
              "      <td>0.0</td>\n",
              "      <td>0.0</td>\n",
              "      <td>0.0</td>\n",
              "      <td>1.0</td>\n",
              "      <td>1.0</td>\n",
              "      <td>1.0</td>\n",
              "    </tr>\n",
              "    <tr>\n",
              "      <th>21</th>\n",
              "      <td>000022.jpg</td>\n",
              "      <td>0.0</td>\n",
              "      <td>1.0</td>\n",
              "      <td>0.0</td>\n",
              "      <td>0.0</td>\n",
              "      <td>0.0</td>\n",
              "      <td>0.0</td>\n",
              "      <td>1.0</td>\n",
              "      <td>0.0</td>\n",
              "      <td>0.0</td>\n",
              "      <td>...</td>\n",
              "      <td>0.0</td>\n",
              "      <td>1.0</td>\n",
              "      <td>0.0</td>\n",
              "      <td>0.0</td>\n",
              "      <td>1.0</td>\n",
              "      <td>1.0</td>\n",
              "      <td>0.0</td>\n",
              "      <td>1.0</td>\n",
              "      <td>1.0</td>\n",
              "      <td>1.0</td>\n",
              "    </tr>\n",
              "  </tbody>\n",
              "</table>\n",
              "<p>5 rows × 43 columns</p>\n",
              "</div>\n",
              "      <button class=\"colab-df-convert\" onclick=\"convertToInteractive('df-9509f146-c98d-4fd8-ad9f-44da85a20907')\"\n",
              "              title=\"Convert this dataframe to an interactive table.\"\n",
              "              style=\"display:none;\">\n",
              "        \n",
              "  <svg xmlns=\"http://www.w3.org/2000/svg\" height=\"24px\"viewBox=\"0 0 24 24\"\n",
              "       width=\"24px\">\n",
              "    <path d=\"M0 0h24v24H0V0z\" fill=\"none\"/>\n",
              "    <path d=\"M18.56 5.44l.94 2.06.94-2.06 2.06-.94-2.06-.94-.94-2.06-.94 2.06-2.06.94zm-11 1L8.5 8.5l.94-2.06 2.06-.94-2.06-.94L8.5 2.5l-.94 2.06-2.06.94zm10 10l.94 2.06.94-2.06 2.06-.94-2.06-.94-.94-2.06-.94 2.06-2.06.94z\"/><path d=\"M17.41 7.96l-1.37-1.37c-.4-.4-.92-.59-1.43-.59-.52 0-1.04.2-1.43.59L10.3 9.45l-7.72 7.72c-.78.78-.78 2.05 0 2.83L4 21.41c.39.39.9.59 1.41.59.51 0 1.02-.2 1.41-.59l7.78-7.78 2.81-2.81c.8-.78.8-2.07 0-2.86zM5.41 20L4 18.59l7.72-7.72 1.47 1.35L5.41 20z\"/>\n",
              "  </svg>\n",
              "      </button>\n",
              "      \n",
              "  <style>\n",
              "    .colab-df-container {\n",
              "      display:flex;\n",
              "      flex-wrap:wrap;\n",
              "      gap: 12px;\n",
              "    }\n",
              "\n",
              "    .colab-df-convert {\n",
              "      background-color: #E8F0FE;\n",
              "      border: none;\n",
              "      border-radius: 50%;\n",
              "      cursor: pointer;\n",
              "      display: none;\n",
              "      fill: #1967D2;\n",
              "      height: 32px;\n",
              "      padding: 0 0 0 0;\n",
              "      width: 32px;\n",
              "    }\n",
              "\n",
              "    .colab-df-convert:hover {\n",
              "      background-color: #E2EBFA;\n",
              "      box-shadow: 0px 1px 2px rgba(60, 64, 67, 0.3), 0px 1px 3px 1px rgba(60, 64, 67, 0.15);\n",
              "      fill: #174EA6;\n",
              "    }\n",
              "\n",
              "    [theme=dark] .colab-df-convert {\n",
              "      background-color: #3B4455;\n",
              "      fill: #D2E3FC;\n",
              "    }\n",
              "\n",
              "    [theme=dark] .colab-df-convert:hover {\n",
              "      background-color: #434B5C;\n",
              "      box-shadow: 0px 1px 3px 1px rgba(0, 0, 0, 0.15);\n",
              "      filter: drop-shadow(0px 1px 2px rgba(0, 0, 0, 0.3));\n",
              "      fill: #FFFFFF;\n",
              "    }\n",
              "  </style>\n",
              "\n",
              "      <script>\n",
              "        const buttonEl =\n",
              "          document.querySelector('#df-9509f146-c98d-4fd8-ad9f-44da85a20907 button.colab-df-convert');\n",
              "        buttonEl.style.display =\n",
              "          google.colab.kernel.accessAllowed ? 'block' : 'none';\n",
              "\n",
              "        async function convertToInteractive(key) {\n",
              "          const element = document.querySelector('#df-9509f146-c98d-4fd8-ad9f-44da85a20907');\n",
              "          const dataTable =\n",
              "            await google.colab.kernel.invokeFunction('convertToInteractive',\n",
              "                                                     [key], {});\n",
              "          if (!dataTable) return;\n",
              "\n",
              "          const docLinkHtml = 'Like what you see? Visit the ' +\n",
              "            '<a target=\"_blank\" href=https://colab.research.google.com/notebooks/data_table.ipynb>data table notebook</a>'\n",
              "            + ' to learn more about interactive tables.';\n",
              "          element.innerHTML = '';\n",
              "          dataTable['output_type'] = 'display_data';\n",
              "          await google.colab.output.renderOutput(dataTable, element);\n",
              "          const docLink = document.createElement('div');\n",
              "          docLink.innerHTML = docLinkHtml;\n",
              "          element.appendChild(docLink);\n",
              "        }\n",
              "      </script>\n",
              "    </div>\n",
              "  </div>\n",
              "  "
            ]
          },
          "metadata": {},
          "execution_count": 31
        }
      ]
    },
    {
      "cell_type": "code",
      "source": [
        "m_mask = df_test[\"Male\"] == 1\n",
        "f_mask = df_test[\"Male\"] == 0\n",
        "df_male = df_test[m_mask]\n",
        "df_female = df_test[f_mask]\n",
        "\n",
        "cm = confusion_matrix(df_male[task], df_male[\"preds_vanilla\"])\n",
        "tn, fp, fn, tp = cm.ravel()\n",
        "print(f\"Male TPR: {tp / (tp + fn)}\")\n",
        "print(f\"Male FNR: {tn / (tn + fp)}\")\n",
        "\n",
        "cm = confusion_matrix(df_female[task], df_female[\"preds_vanilla\"])\n",
        "tn, fp, fn, tp = cm.ravel()\n",
        "print(f\"Female TPR: {tp / (tp + fn)}\")\n",
        "print(f\"Female FNR: {tn / (tn + fp)}\")"
      ],
      "metadata": {
        "colab": {
          "base_uri": "https://localhost:8080/"
        },
        "id": "i0NLfVb1lIk4",
        "outputId": "71d474d7-a4e9-45a9-e197-d9c857dc2902"
      },
      "execution_count": 32,
      "outputs": [
        {
          "output_type": "stream",
          "name": "stdout",
          "text": [
            "Male TPR: 0.5208333333333334\n",
            "Male FNR: 0.47619047619047616\n",
            "Female TPR: 0.546907574704656\n",
            "Female FNR: 0.48198019801980196\n"
          ]
        }
      ]
    },
    {
      "cell_type": "code",
      "source": [
        "cm = confusion_matrix(df_male[task], df_male[\"preds_dpsgd\"])\n",
        "tn, fp, fn, tp = cm.ravel()\n",
        "print(f\"Male TPR: {tp / (tp + fn)}\")\n",
        "print(f\"Male FNR: {tn / (tn + fp)}\")\n",
        "\n",
        "cm = confusion_matrix(df_female[task], df_female[\"preds_dpsgd\"])\n",
        "tn, fp, fn, tp = cm.ravel()\n",
        "print(f\"Female TPR: {tp / (tp + fn)}\")\n",
        "print(f\"Female FNR: {tn / (tn + fp)}\")"
      ],
      "metadata": {
        "colab": {
          "base_uri": "https://localhost:8080/"
        },
        "id": "arpdienLUhbO",
        "outputId": "d1d9e97b-a23c-4808-9c17-b360f166bd82"
      },
      "execution_count": 33,
      "outputs": [
        {
          "output_type": "stream",
          "name": "stdout",
          "text": [
            "Male TPR: 0.4666666666666667\n",
            "Male FNR: 0.5294117647058824\n",
            "Female TPR: 0.5055594162612925\n",
            "Female FNR: 0.5144554455445545\n"
          ]
        }
      ]
    },
    {
      "cell_type": "code",
      "source": [
        "plt.hist(outs_vanilla)\n",
        "plt.title(task)\n",
        "plt.legend([\"Negative\", \"Positive\"])\n",
        "plt.show()"
      ],
      "metadata": {
        "colab": {
          "base_uri": "https://localhost:8080/",
          "height": 281
        },
        "id": "54J4NB1FMYoC",
        "outputId": "634a5ef7-58eb-4ed7-ca96-29c9b7f80578"
      },
      "execution_count": 34,
      "outputs": [
        {
          "output_type": "display_data",
          "data": {
            "text/plain": [
              "<Figure size 432x288 with 1 Axes>"
            ],
            "image/png": "[encoded data removed]"
          },
          "metadata": {
            "needs_background": "light"
          }
        }
      ]
    },
    {
      "cell_type": "code",
      "source": [
        "ax1, ax2 = plt.subplots(1, 2, figsize=(14, 4))[1]\n",
        "ax1.hist(outs_vanilla[m_mask])\n",
        "ax1.set_title(task + \" Males\")\n",
        "ax1.legend([\"Negative\", \"Positive\"])\n",
        "ax2.hist(outs_vanilla[f_mask])\n",
        "ax2.set_title(task + \" Females\")\n",
        "ax2.legend([\"Negative\", \"Positive\"])\n",
        "plt.show()"
      ],
      "metadata": {
        "colab": {
          "base_uri": "https://localhost:8080/",
          "height": 281
        },
        "id": "HgodxboDPYVs",
        "outputId": "f3cfa8fc-cad2-4b33-860c-55e1e94d867f"
      },
      "execution_count": 35,
      "outputs": [
        {
          "output_type": "display_data",
          "data": {
            "text/plain": [
              "<Figure size 1008x288 with 2 Axes>"
            ],
            "image/png": "[encoded data removed]"
          },
          "metadata": {
            "needs_background": "light"
          }
        }
      ]
    },
    {
      "cell_type": "code",
      "source": [
        "plt.hist(outs_dpsgd)\n",
        "plt.title(task)\n",
        "plt.legend([\"Negative\", \"Positive\"])\n",
        "plt.show()"
      ],
      "metadata": {
        "colab": {
          "base_uri": "https://localhost:8080/",
          "height": 281
        },
        "id": "UIJ3reS5NcsN",
        "outputId": "7663d8a9-66c2-48b2-c33f-4231b7759504"
      },
      "execution_count": 36,
      "outputs": [
        {
          "output_type": "display_data",
          "data": {
            "text/plain": [
              "<Figure size 432x288 with 1 Axes>"
            ],
            "image/png": "[encoded data removed]"
          },
          "metadata": {
            "needs_background": "light"
          }
        }
      ]
    },
    {
      "cell_type": "code",
      "source": [
        "ax1, ax2 = plt.subplots(1, 2, figsize=(14, 4))[1]\n",
        "ax1.hist(outs_dpsgd[m_mask])\n",
        "ax1.set_title(task + \" Males\")\n",
        "ax1.legend([\"Negative\", \"Positive\"])\n",
        "ax2.hist(outs_dpsgd[f_mask])\n",
        "ax2.set_title(task + \" Females\")\n",
        "ax2.legend([\"Negative\", \"Positive\"])\n",
        "plt.show()"
      ],
      "metadata": {
        "colab": {
          "base_uri": "https://localhost:8080/",
          "height": 281
        },
        "id": "361aijfaPbwr",
        "outputId": "948b4702-d26d-452e-b262-5fae7ff41b77"
      },
      "execution_count": 37,
      "outputs": [
        {
          "output_type": "display_data",
          "data": {
            "text/plain": [
              "<Figure size 1008x288 with 2 Axes>"
            ],
            "image/png": "[encoded data removed]"
          },
          "metadata": {
            "needs_background": "light"
          }
        }
      ]
    },
    {
      "cell_type": "code",
      "source": [
        "def emd(x, y):\n",
        "    joint = np.concatenate((x, y))\n",
        "    bin_edges = np.histogram_bin_edges(joint, bins=\"auto\")\n",
        "    bin_centers = np.mean([bin_edges[:-1], bin_edges[1:]], axis=0)\n",
        "\n",
        "    hist_x = np.histogram(x, bins=bin_edges)[0]\n",
        "    hist_y = np.histogram(y, bins=bin_edges)[0]\n",
        "    hist_x = hist_x / hist_x.sum()\n",
        "    hist_y = hist_y / hist_y.sum()\n",
        "\n",
        "    return wasserstein_distance(bin_centers, bin_centers, u_weights=hist_x, v_weights=hist_y)\n",
        "\n",
        "print(\"Wasserstein distance between output distributions for males and females\")\n",
        "print(f\"Vanilla: {emd(outs_vanilla[m_mask][:, 0], outs_vanilla[f_mask][:, 0])}\")\n",
        "print(f\"DPSGD: {emd(outs_dpsgd[m_mask][:, 0], outs_dpsgd[f_mask][:, 0])}\")"
      ],
      "metadata": {
        "colab": {
          "base_uri": "https://localhost:8080/"
        },
        "id": "iOQ2gng0gkcP",
        "outputId": "32527e95-e54b-4550-b08f-a91c1730209f"
      },
      "execution_count": null,
      "outputs": [
        {
          "output_type": "stream",
          "name": "stdout",
          "text": [
            "Wasserstein distance between output distributions for males and females\n",
            "Vanilla: 0.13199123181726988\n",
            "DPSGD: 0.1139311785337816\n"
          ]
        }
      ]
    }
  ]
}
